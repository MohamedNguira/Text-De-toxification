{
 "cells": [
  {
   "cell_type": "code",
   "execution_count": 4,
   "metadata": {},
   "outputs": [],
   "source": [
    "# the notebook's main objective is to filter and prepare the dataset to train a summarizer on it.\n",
    "import os, sys\n",
    "from pathlib import Path\n",
    "HOME = os.getcwd()\n",
    "\n",
    "current = HOME \n",
    "while 'src' not in os.listdir(current):\n",
    "    current = Path(current).parent\n",
    "\n",
    "PARENT_DIR = str(current)\n",
    "DATA_FOLDER = os.path.join(PARENT_DIR, 'src', 'data')\n",
    "data_path = os.path.join(DATA_FOLDER, 'filtered.tsv')\n",
    "\n",
    "sys.path.append(str(current))\n",
    "sys.path.append(os.path.join(str(current), 'data_analysis'))\n",
    "sys.path.append(os.path.join(str(current), 'evaluation'))\n",
    "sys.path.append(os.path.join(str(current), 'text_processing')) "
   ]
  },
  {
   "cell_type": "code",
   "execution_count": 5,
   "metadata": {},
   "outputs": [],
   "source": [
    "model_checkpoint = os.path.join(PARENT_DIR, 'src', 'models', 's2s', 'toxic_classifier_checkpoints', 'checkpoint-500')"
   ]
  },
  {
   "cell_type": "code",
   "execution_count": 6,
   "metadata": {},
   "outputs": [
    {
     "ename": "OSError",
     "evalue": "Not enough disk space. Needed: Unknown size (download: Unknown size, generated: Unknown size, post-processed: Unknown size)",
     "output_type": "error",
     "traceback": [
      "\u001b[0;31m---------------------------------------------------------------------------\u001b[0m",
      "\u001b[0;31mOSError\u001b[0m                                   Traceback (most recent call last)",
      "\u001b[1;32m/shared/detox/src/models/s2s/train.ipynb Cell 3\u001b[0m line \u001b[0;36m5\n\u001b[1;32m      <a href='vscode-notebook-cell://ssh-remote%2B10.1.11.11/shared/detox/src/models/s2s/train.ipynb#W2sdnNjb2RlLXJlbW90ZQ%3D%3D?line=2'>3</a>\u001b[0m \u001b[39mimport\u001b[39;00m \u001b[39mtorch\u001b[39;00m\u001b[39m.\u001b[39;00m\u001b[39mnn\u001b[39;00m\u001b[39m.\u001b[39;00m\u001b[39mfunctional\u001b[39;00m \u001b[39mas\u001b[39;00m \u001b[39mF\u001b[39;00m\n\u001b[1;32m      <a href='vscode-notebook-cell://ssh-remote%2B10.1.11.11/shared/detox/src/models/s2s/train.ipynb#W2sdnNjb2RlLXJlbW90ZQ%3D%3D?line=3'>4</a>\u001b[0m \u001b[39mfrom\u001b[39;00m \u001b[39mdatasets\u001b[39;00m \u001b[39mimport\u001b[39;00m load_dataset\n\u001b[0;32m----> <a href='vscode-notebook-cell://ssh-remote%2B10.1.11.11/shared/detox/src/models/s2s/train.ipynb#W2sdnNjb2RlLXJlbW90ZQ%3D%3D?line=4'>5</a>\u001b[0m train_data \u001b[39m=\u001b[39m load_dataset(\u001b[39m\"\u001b[39;49m\u001b[39mcsv\u001b[39;49m\u001b[39m\"\u001b[39;49m, data_files\u001b[39m=\u001b[39;49mos\u001b[39m.\u001b[39;49mpath\u001b[39m.\u001b[39;49mjoin(DATA_FOLDER, \u001b[39m'\u001b[39;49m\u001b[39mtrain_split.csv\u001b[39;49m\u001b[39m'\u001b[39;49m), split\u001b[39m=\u001b[39;49m\u001b[39m'\u001b[39;49m\u001b[39mtrain\u001b[39;49m\u001b[39m'\u001b[39;49m)\n\u001b[1;32m      <a href='vscode-notebook-cell://ssh-remote%2B10.1.11.11/shared/detox/src/models/s2s/train.ipynb#W2sdnNjb2RlLXJlbW90ZQ%3D%3D?line=5'>6</a>\u001b[0m val_dat \u001b[39m=\u001b[39m load_dataset(\u001b[39m\"\u001b[39m\u001b[39mcsv\u001b[39m\u001b[39m\"\u001b[39m, data_files\u001b[39m=\u001b[39mos\u001b[39m.\u001b[39mpath\u001b[39m.\u001b[39mjoin(DATA_FOLDER, \u001b[39m'\u001b[39m\u001b[39mtrain_split.csv\u001b[39m\u001b[39m'\u001b[39m), split\u001b[39m=\u001b[39m\u001b[39m'\u001b[39m\u001b[39mtrain\u001b[39m\u001b[39m'\u001b[39m)\n\u001b[1;32m      <a href='vscode-notebook-cell://ssh-remote%2B10.1.11.11/shared/detox/src/models/s2s/train.ipynb#W2sdnNjb2RlLXJlbW90ZQ%3D%3D?line=6'>7</a>\u001b[0m test_data \u001b[39m=\u001b[39m load_dataset(\u001b[39m\"\u001b[39m\u001b[39mcsv\u001b[39m\u001b[39m\"\u001b[39m, data_files\u001b[39m=\u001b[39mos\u001b[39m.\u001b[39mpath\u001b[39m.\u001b[39mjoin(DATA_FOLDER, \u001b[39m'\u001b[39m\u001b[39mtrain_split.csv\u001b[39m\u001b[39m'\u001b[39m), split\u001b[39m=\u001b[39m\u001b[39m'\u001b[39m\u001b[39mtrain\u001b[39m\u001b[39m'\u001b[39m)\n",
      "File \u001b[0;32m~/miniconda3/lib/python3.11/site-packages/datasets/load.py:1797\u001b[0m, in \u001b[0;36mload_dataset\u001b[0;34m(path, name, data_dir, data_files, split, cache_dir, features, download_config, download_mode, verification_mode, ignore_verifications, keep_in_memory, save_infos, revision, use_auth_token, task, streaming, num_proc, storage_options, **config_kwargs)\u001b[0m\n\u001b[1;32m   1794\u001b[0m try_from_hf_gcs \u001b[39m=\u001b[39m path \u001b[39mnot\u001b[39;00m \u001b[39min\u001b[39;00m _PACKAGED_DATASETS_MODULES\n\u001b[1;32m   1796\u001b[0m \u001b[39m# Download and prepare data\u001b[39;00m\n\u001b[0;32m-> 1797\u001b[0m builder_instance\u001b[39m.\u001b[39;49mdownload_and_prepare(\n\u001b[1;32m   1798\u001b[0m     download_config\u001b[39m=\u001b[39;49mdownload_config,\n\u001b[1;32m   1799\u001b[0m     download_mode\u001b[39m=\u001b[39;49mdownload_mode,\n\u001b[1;32m   1800\u001b[0m     verification_mode\u001b[39m=\u001b[39;49mverification_mode,\n\u001b[1;32m   1801\u001b[0m     try_from_hf_gcs\u001b[39m=\u001b[39;49mtry_from_hf_gcs,\n\u001b[1;32m   1802\u001b[0m     num_proc\u001b[39m=\u001b[39;49mnum_proc,\n\u001b[1;32m   1803\u001b[0m     storage_options\u001b[39m=\u001b[39;49mstorage_options,\n\u001b[1;32m   1804\u001b[0m )\n\u001b[1;32m   1806\u001b[0m \u001b[39m# Build dataset for splits\u001b[39;00m\n\u001b[1;32m   1807\u001b[0m keep_in_memory \u001b[39m=\u001b[39m (\n\u001b[1;32m   1808\u001b[0m     keep_in_memory \u001b[39mif\u001b[39;00m keep_in_memory \u001b[39mis\u001b[39;00m \u001b[39mnot\u001b[39;00m \u001b[39mNone\u001b[39;00m \u001b[39melse\u001b[39;00m is_small_dataset(builder_instance\u001b[39m.\u001b[39minfo\u001b[39m.\u001b[39mdataset_size)\n\u001b[1;32m   1809\u001b[0m )\n",
      "File \u001b[0;32m~/miniconda3/lib/python3.11/site-packages/datasets/builder.py:828\u001b[0m, in \u001b[0;36mDatasetBuilder.download_and_prepare\u001b[0;34m(self, output_dir, download_config, download_mode, verification_mode, ignore_verifications, try_from_hf_gcs, dl_manager, base_path, use_auth_token, file_format, max_shard_size, num_proc, storage_options, **download_and_prepare_kwargs)\u001b[0m\n\u001b[1;32m    824\u001b[0m \u001b[39mif\u001b[39;00m is_local:  \u001b[39m# if cache dir is local, check for available space\u001b[39;00m\n\u001b[1;32m    825\u001b[0m     \u001b[39mif\u001b[39;00m \u001b[39mnot\u001b[39;00m has_sufficient_disk_space(\n\u001b[1;32m    826\u001b[0m         \u001b[39mself\u001b[39m\u001b[39m.\u001b[39minfo\u001b[39m.\u001b[39msize_in_bytes \u001b[39mor\u001b[39;00m \u001b[39m0\u001b[39m, directory\u001b[39m=\u001b[39mPath(\u001b[39mself\u001b[39m\u001b[39m.\u001b[39m_output_dir)\u001b[39m.\u001b[39mparent\n\u001b[1;32m    827\u001b[0m     ):\n\u001b[0;32m--> 828\u001b[0m         \u001b[39mraise\u001b[39;00m \u001b[39mOSError\u001b[39;00m(\n\u001b[1;32m    829\u001b[0m             \u001b[39mf\u001b[39m\u001b[39m\"\u001b[39m\u001b[39mNot enough disk space. Needed: \u001b[39m\u001b[39m{\u001b[39;00msize_str(\u001b[39mself\u001b[39m\u001b[39m.\u001b[39minfo\u001b[39m.\u001b[39msize_in_bytes\u001b[39m \u001b[39m\u001b[39mor\u001b[39;00m\u001b[39m \u001b[39m\u001b[39m0\u001b[39m)\u001b[39m}\u001b[39;00m\u001b[39m (download: \u001b[39m\u001b[39m{\u001b[39;00msize_str(\u001b[39mself\u001b[39m\u001b[39m.\u001b[39minfo\u001b[39m.\u001b[39mdownload_size\u001b[39m \u001b[39m\u001b[39mor\u001b[39;00m\u001b[39m \u001b[39m\u001b[39m0\u001b[39m)\u001b[39m}\u001b[39;00m\u001b[39m, generated: \u001b[39m\u001b[39m{\u001b[39;00msize_str(\u001b[39mself\u001b[39m\u001b[39m.\u001b[39minfo\u001b[39m.\u001b[39mdataset_size\u001b[39m \u001b[39m\u001b[39mor\u001b[39;00m\u001b[39m \u001b[39m\u001b[39m0\u001b[39m)\u001b[39m}\u001b[39;00m\u001b[39m, post-processed: \u001b[39m\u001b[39m{\u001b[39;00msize_str(\u001b[39mself\u001b[39m\u001b[39m.\u001b[39minfo\u001b[39m.\u001b[39mpost_processing_size\u001b[39m \u001b[39m\u001b[39mor\u001b[39;00m\u001b[39m \u001b[39m\u001b[39m0\u001b[39m)\u001b[39m}\u001b[39;00m\u001b[39m)\u001b[39m\u001b[39m\"\u001b[39m\n\u001b[1;32m    830\u001b[0m         )\n\u001b[1;32m    832\u001b[0m \u001b[39m@contextlib\u001b[39m\u001b[39m.\u001b[39mcontextmanager\n\u001b[1;32m    833\u001b[0m \u001b[39mdef\u001b[39;00m \u001b[39mincomplete_dir\u001b[39m(dirname):\n\u001b[1;32m    834\u001b[0m \u001b[39m    \u001b[39m\u001b[39m\"\"\"Create temporary dir for dirname and rename on exit.\"\"\"\u001b[39;00m\n",
      "\u001b[0;31mOSError\u001b[0m: Not enough disk space. Needed: Unknown size (download: Unknown size, generated: Unknown size, post-processed: Unknown size)"
     ]
    }
   ],
   "source": [
    "from transformers import AutoModelForSeq2SeqLM, AutoTokenizer, AutoModelForSequenceClassification\n",
    "import torch\n",
    "import torch.nn.functional as F\n",
    "from datasets import load_dataset\n",
    "train_data = load_dataset(\"csv\", data_files=os.path.join(DATA_FOLDER, 'train_split.csv'), split='train')\n",
    "val_dat = load_dataset(\"csv\", data_files=os.path.join(DATA_FOLDER, 'train_split.csv'), split='train')\n",
    "test_data = load_dataset(\"csv\", data_files=os.path.join(DATA_FOLDER, 'train_split.csv'), split='train')"
   ]
  },
  {
   "cell_type": "code",
   "execution_count": null,
   "metadata": {},
   "outputs": [],
   "source": [
    "# sample = all_data.select(range(5000))\n",
    "checkpoint = 'facebook/bart-base'\n",
    "tokenizer = AutoTokenizer.from_pretrained(checkpoint)\n",
    "model = AutoModelForSeq2SeqLM.from_pretrained(checkpoint)\n",
    "toxic_classifier = AutoModelForSequenceClassification.from_pretrained(model_checkpoint)"
   ]
  },
  {
   "cell_type": "code",
   "execution_count": null,
   "metadata": {},
   "outputs": [],
   "source": [
    "# split the data\n",
    "\n",
    "import src.data_preparation.prepare_data as pdr\n",
    "\n",
    "train_data, val_data, test_data = pdr.data_split(data, train_portion=0.96)\n",
    "\n",
    "# save the different splits for reference\n",
    "train_data.to_csv(os.path.join(DATA_FOLDER, 'train_split.csv'), index=False)\n",
    "val_data.to_csv(os.path.join(DATA_FOLDER, 'val_split.csv'), index=False)\n",
    "test_data.to_csv(os.path.join(DATA_FOLDER, 'test_split.csv'), index=False)"
   ]
  },
  {
   "cell_type": "code",
   "execution_count": null,
   "metadata": {},
   "outputs": [],
   "source": [
    "def prepare_labeled_data(batch):\n",
    "    # tokenize 'x'\n",
    "    model_inputs = tokenizer(batch['source'], truncation=True)\n",
    "    # tokenize 'y'  \n",
    "    labels = tokenizer(text_target=batch[\"target\"], truncation=True)\n",
    "    # add it to the model's input\n",
    "    model_inputs[\"labels\"] = labels[\"input_ids\"]\n",
    "    # model_inputs[\"labels_attention_masks\"] = labels['attention_mask']    \n",
    "    return model_inputs\n",
    "\n",
    "train_data = train_data.map(prepare_labeled_data, batched=True).remove_columns(['source', 'target'])\n",
    "val_data = val_data.map(prepare_labeled_data, batched=True).remove_columns(['source', 'target'])\n",
    "test_data = test_data.map(prepare_labeled_data, batched=True).remove_columns(['source', 'target'])\n"
   ]
  },
  {
   "cell_type": "code",
   "execution_count": null,
   "metadata": {},
   "outputs": [],
   "source": [
    "\n",
    "from transformers import DataCollatorForSeq2Seq\n",
    "data_collator = DataCollatorForSeq2Seq(tokenizer=tokenizer)\n",
    "# we are now ready to create the dataloader\n",
    "from torch.utils.data import DataLoader\n",
    "train_dl = DataLoader(dataset=train_data, batch_size=4, shuffle=True, collate_fn=data_collator)\n",
    "val_dl = DataLoader(dataset=val_data, batch_size=4, shuffle=False, collate_fn=data_collator)"
   ]
  },
  {
   "cell_type": "code",
   "execution_count": null,
   "metadata": {},
   "outputs": [],
   "source": [
    "from torch import nn\n",
    "from transformers import Trainer\n",
    "from torch.nn.functional import softmax\n",
    "\n",
    "class CustomTrainer(Trainer):\n",
    "    def compute_loss(self, model, inputs, return_outputs=False):\n",
    "        model_output = model(**inputs)\n",
    "        # extract the sequence to sequence loss\n",
    "        s2s_loss = model_output.loss\n",
    "\n",
    "        prediction_ids = model_output.logits.argmax(dim=-1)\n",
    "        attention_mask = torch.where(prediction_ids == tokenizer.pad_token_id,\n",
    "                                     torch.zeros(*prediction_ids.shape), torch.ones(*prediction_ids.shape))\n",
    "        \n",
    "        toxic_output = toxic_classifier(input_ids=prediction_ids, attention_mask=attention_mask)\n",
    "        toxic_loss = torch.mean(softmax(toxic_output.logits, dim=1)[:, 1])\n",
    "        loss = s2s_loss + 0.05 * toxic_loss \n",
    "        return (loss, model_output) if return_outputs else loss \n",
    "    "
   ]
  },
  {
   "cell_type": "code",
   "execution_count": null,
   "metadata": {},
   "outputs": [],
   "source": [
    "# Train model\n",
    "\n",
    "from transformers import Seq2SeqTrainer, Seq2SeqTrainingArguments\n",
    "\n",
    "batch_size = 64\n",
    "num_epochs = 5\n",
    "learning_rate = 5e-5\n",
    "warmup_steps = 500\n",
    "weight_decay = 0.01\n",
    "\n",
    "sc_training_args = Seq2SeqTrainingArguments(\n",
    "    output_dir='seq_2_seq',\n",
    "    per_device_train_batch_size=batch_size,\n",
    "    per_device_eval_batch_size=batch_size,\n",
    "    predict_with_generate=True,\n",
    "    do_train=True,\n",
    "    do_eval=True,\n",
    "    logging_steps=100,\n",
    "    save_steps=1000,\n",
    "    eval_steps=10,\n",
    "    overwrite_output_dir=True,\n",
    "    warmup_steps=warmup_steps,\n",
    "    learning_rate=learning_rate,\n",
    "    weight_decay=weight_decay,\n",
    "    num_train_epochs=num_epochs,\n",
    "    report_to=\"none\",\n",
    ")\n",
    "\n",
    "trainer = Seq2SeqTrainer(\n",
    "    model=model,\n",
    "    args=sc_training_args,\n",
    "    train_dataset=train_data,\n",
    "    eval_dataset=val_data,\n",
    "    data_collator=data_collator\n",
    ")"
   ]
  },
  {
   "cell_type": "code",
   "execution_count": null,
   "metadata": {},
   "outputs": [],
   "source": [
    "trainer.train()"
   ]
  },
  {
   "cell_type": "code",
   "execution_count": null,
   "metadata": {},
   "outputs": [],
   "source": [
    "\n",
    "for i in range(0, len(val_data), 50):\n",
    "    input_ids = val_data[i]['input_ids']\n",
    "    attention_mask = val_data[i]['attention_mask']\n",
    "    labels = val_data[i]['labels']\n",
    "\n",
    "    print(f\"source: {tokenizer.decode(input_ids, skip_special_tokens=True)}\")\n",
    "    print(f\"target: {tokenizer.decode(labels, skip_special_tokens=True)}\")\n",
    "\n",
    "    outputs = model.generate(\n",
    "        input_ids=torch.tensor(input_ids).unsqueeze(0).to('cuda'),\n",
    "        attention_mask=torch.tensor(attention_mask).unsqueeze(0).to('cuda'),\n",
    "        max_length=512,\n",
    "        num_beams=5,\n",
    "        early_stopping=True\n",
    "    )\n",
    "\n",
    "    print(f\"generated :{tokenizer.decode(outputs[0], skip_special_tokens=True)}\")\n",
    "    print(\"#\" * 100)"
   ]
  },
  {
   "cell_type": "code",
   "execution_count": null,
   "metadata": {},
   "outputs": [],
   "source": [
    "# let's write a function to compute the summarization + toxicity loss\n",
    "from src.evaluation.toxicity_classication import EvalutionSingletonInitializer\n",
    "from torch.nn.functional import softmax\n",
    "from typing import Union\n",
    "\n",
    "def toxic_summary_model_loss(output_decoded: torch.Tensor, \n",
    "                             device,\n",
    "                             return_tensor: bool=False) -> Union[float, torch.Tensor]:\n",
    "    \n",
    "    singleton_obj = EvalutionSingletonInitializer()\n",
    "    tc_tokenizer, tc_classifier = singleton_obj.get_toxic_tokenizer(), singleton_obj.get_toxic_classifier()\n",
    "\n",
    "    # make sure to freeze their parameters\n",
    "    for p in tc_classifier.parameters():\n",
    "        p.requires_grad = False\n",
    "\n",
    "    tc_classifier.to(device)\n",
    "    # tokenize\n",
    "    model_input = tc_tokenizer(output_decoded, return_tensors='pt', padding=True, truncation=True)\n",
    "    # set the input to the device\n",
    "    model_input = {k: v.to(device) for k, v in model_input.items()}\n",
    "    # pass through the model\n",
    "    output = tc_classifier(**model_input)\n",
    "    \n",
    "    loss = torch.mean(softmax(output.logits, dim=1)[:, 1])\n",
    "    \n",
    "    if return_tensor: \n",
    "        loss.requires_grad=True\n",
    "        return loss\n",
    "    \n",
    "    return loss.item()\n",
    "\n",
    "\n",
    "# train_custom_seq2seq(train_dataloader=train_dl, \n",
    "#                      val_dataloader=val_dl, \n",
    "#                      model=model, \n",
    "#                      tokenizer=tokenizer, \n",
    "#                      toxic_tokenizer=toxic_tokenizer,\n",
    "#                      toxic_classifier=toxic_classifier,\n",
    "#                      optimizer=optimizer, \n",
    "#                      scheduler=scheduler, \n",
    "#                      toxicity_loss_function=toxic_summary_model_loss,\n",
    "#                      toxicity_coeff=0.5,\n",
    "#                     num_epochs=2,   \n",
    "#                     report_per_epoch=1,\n",
    "#                     log_dir=os.path.join(HOME, 'runs')\n",
    "#                     )\n",
    "\n",
    "        "
   ]
  },
  {
   "cell_type": "code",
   "execution_count": null,
   "metadata": {},
   "outputs": [],
   "source": []
  }
 ],
 "metadata": {
  "kernelspec": {
   "display_name": "env",
   "language": "python",
   "name": "python3"
  },
  "language_info": {
   "codemirror_mode": {
    "name": "ipython",
    "version": 3
   },
   "file_extension": ".py",
   "mimetype": "text/x-python",
   "name": "python",
   "nbconvert_exporter": "python",
   "pygments_lexer": "ipython3",
   "version": "3.11.5"
  }
 },
 "nbformat": 4,
 "nbformat_minor": 2
}
