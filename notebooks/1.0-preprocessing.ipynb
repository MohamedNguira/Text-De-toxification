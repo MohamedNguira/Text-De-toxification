{
 "cells": [
  {
   "cell_type": "code",
   "execution_count": 1,
   "metadata": {},
   "outputs": [],
   "source": [
    "import os, sys\n",
    "from pathlib import Path\n",
    "from typing import Dict, Tuple, List\n",
    "import spacy\n",
    "\n",
    "HOME = os.getcwd()\n",
    "DATA_FOLDER = os.path.join(Path(HOME).parent, 'data')\n",
    "data_path = os.path.join(DATA_FOLDER, 'filtered.tsv')"
   ]
  },
  {
   "cell_type": "code",
   "execution_count": 2,
   "metadata": {},
   "outputs": [],
   "source": [
    "current = HOME \n",
    "while 'src' not in os.listdir(current):\n",
    "    current = Path(current).parent\n",
    "\n",
    "PARENT_DIR = current\n",
    "\n",
    "sys.path.append(str(current))\n",
    "sys.path.append(os.path.join(str(current), 'data_analysis'))\n",
    "sys.path.append(os.path.join(str(current), 'evaluation'))\n",
    "sys.path.append(os.path.join(str(current), 'text_processing'))"
   ]
  },
  {
   "cell_type": "code",
   "execution_count": 3,
   "metadata": {},
   "outputs": [
    {
     "name": "stderr",
     "output_type": "stream",
     "text": [
      "c:\\Users\\m4mou\\AppData\\Local\\Programs\\Python\\Python311\\Lib\\site-packages\\datasets\\table.py:1395: FutureWarning: promote has been superseded by mode='default'.\n",
      "  block_group = [InMemoryTable(cls._concat_blocks(list(block_group), axis=axis))]\n",
      "c:\\Users\\m4mou\\AppData\\Local\\Programs\\Python\\Python311\\Lib\\site-packages\\datasets\\table.py:1421: FutureWarning: promote has been superseded by mode='default'.\n",
      "  table = cls._concat_blocks(blocks, axis=0)\n"
     ]
    }
   ],
   "source": [
    "# let's first fix the data \n",
    "import src.text_processing.preprocess as pr\n",
    "import src.data_preparation.prepare_data as prd \n",
    "# fixed_data = prd.fix_initial_data(data_path)\n",
    "data = prd.prepare_all_data(fixed_data_file=os.path.join(DATA_FOLDER, 'fixed.csv'), save=False)"
   ]
  },
  {
   "cell_type": "code",
   "execution_count": 4,
   "metadata": {},
   "outputs": [
    {
     "data": {
      "application/vnd.jupyter.widget-view+json": {
       "model_id": "3b024faa5eb64a45877773787b098de9",
       "version_major": 2,
       "version_minor": 0
      },
      "text/plain": [
       "Map:   0%|          | 0/597521 [00:00<?, ? examples/s]"
      ]
     },
     "metadata": {},
     "output_type": "display_data"
    },
    {
     "name": "stderr",
     "output_type": "stream",
     "text": [
      "c:\\Users\\m4mou\\AppData\\Local\\Programs\\Python\\Python311\\Lib\\site-packages\\spacy\\pipeline\\lemmatizer.py:211: UserWarning: [W108] The rule-based lemmatizer did not find POS annotation for one or more tokens. Check that your pipeline includes components that assign token.pos, typically 'tagger'+'attribute_ruler' or 'morphologizer'.\n",
      "  warnings.warn(Warnings.W108)\n"
     ]
    }
   ],
   "source": [
    "import random\n",
    "# sample = data.select(range(10 ** 4))\n",
    "def process_text(text: str) -> str:\n",
    "    return pr.no_extra_spaces(pr.no_extra_chars(pr.to_lower(text)))\n",
    "\n",
    "def process_batch(batch: Dict, nlp):\n",
    "    p = random.random()\n",
    "    if p < 10 ** -5:\n",
    "        print(\"really ?\")\n",
    "    return dict([(k, [process_text(t) for t in v]) for k, v in ({\"source\": pr.uniform_ne_batched(batch['source'], nlp), \n",
    "                                                                 \"target\": pr.uniform_ne_batched(batch['target'], nlp)}).items()]) \n",
    "\n",
    "# load the nlp object in advnace\n",
    "nlp = spacy.load(\"en_core_web_sm\")\n",
    "processed_data = data.map(lambda b: process_batch(b, nlp), batched=True)"
   ]
  },
  {
   "cell_type": "code",
   "execution_count": 5,
   "metadata": {},
   "outputs": [
    {
     "data": {
      "application/vnd.jupyter.widget-view+json": {
       "model_id": "401d7c980c8a4b3e900a61685c8df3b9",
       "version_major": 2,
       "version_minor": 0
      },
      "text/plain": [
       "Filter:   0%|          | 0/597521 [00:00<?, ? examples/s]"
      ]
     },
     "metadata": {},
     "output_type": "display_data"
    },
    {
     "data": {
      "application/vnd.jupyter.widget-view+json": {
       "model_id": "c7f6854f19b449d69cdc857d70aabb17",
       "version_major": 2,
       "version_minor": 0
      },
      "text/plain": [
       "Creating CSV from Arrow format:   0%|          | 0/598 [00:00<?, ?ba/s]"
      ]
     },
     "metadata": {},
     "output_type": "display_data"
    },
    {
     "data": {
      "text/plain": [
       "66836632"
      ]
     },
     "execution_count": 5,
     "metadata": {},
     "output_type": "execute_result"
    }
   ],
   "source": [
    "processed_data = processed_data.filter(lambda s: (isinstance(s['source'], str) and isinstance(s['target'], str)))\n",
    "# save the data\n",
    "processed_data.to_csv(os.path.join(DATA_FOLDER, 'all_data_processed.csv'), index=False)"
   ]
  },
  {
   "cell_type": "code",
   "execution_count": 6,
   "metadata": {},
   "outputs": [
    {
     "data": {
      "application/vnd.jupyter.widget-view+json": {
       "model_id": "d37157379f0c488685e2331bd2e2c182",
       "version_major": 2,
       "version_minor": 0
      },
      "text/plain": [
       "Downloading data files:   0%|          | 0/1 [00:00<?, ?it/s]"
      ]
     },
     "metadata": {},
     "output_type": "display_data"
    },
    {
     "data": {
      "application/vnd.jupyter.widget-view+json": {
       "model_id": "aa4dc50a78ae4167a58bcd057a13653f",
       "version_major": 2,
       "version_minor": 0
      },
      "text/plain": [
       "Extracting data files:   0%|          | 0/1 [00:00<?, ?it/s]"
      ]
     },
     "metadata": {},
     "output_type": "display_data"
    },
    {
     "data": {
      "application/vnd.jupyter.widget-view+json": {
       "model_id": "dfafbd3d4902470f82c030b073377c35",
       "version_major": 2,
       "version_minor": 0
      },
      "text/plain": [
       "Generating train split: 0 examples [00:00, ? examples/s]"
      ]
     },
     "metadata": {},
     "output_type": "display_data"
    }
   ],
   "source": [
    "from datasets import load_dataset\n",
    "processed_data = load_dataset(\"csv\", data_files=os.path.join(DATA_FOLDER, \"all_data_processed.csv\"), split='train')"
   ]
  },
  {
   "cell_type": "code",
   "execution_count": 8,
   "metadata": {},
   "outputs": [
    {
     "data": {
      "application/vnd.jupyter.widget-view+json": {
       "model_id": "dccf64d3f9fb4ab1a14d6f2f429deefe",
       "version_major": 2,
       "version_minor": 0
      },
      "text/plain": [
       "Map:   0%|          | 0/597521 [00:00<?, ? examples/s]"
      ]
     },
     "metadata": {},
     "output_type": "display_data"
    },
    {
     "ename": "TypeError",
     "evalue": "expected string or buffer",
     "output_type": "error",
     "traceback": [
      "\u001b[1;31m---------------------------------------------------------------------------\u001b[0m",
      "\u001b[1;31mTypeError\u001b[0m                                 Traceback (most recent call last)",
      "\u001b[1;32mc:\\Users\\m4mou\\Desktop\\pmldl\\textDetoxification-main\\src\\data_preparation\\exp.ipynb Cell 7\u001b[0m line \u001b[0;36m6\n\u001b[0;32m      <a href='vscode-notebook-cell:/c%3A/Users/m4mou/Desktop/pmldl/textDetoxification-main/src/data_preparation/exp.ipynb#W6sZmlsZQ%3D%3D?line=3'>4</a>\u001b[0m importlib\u001b[39m.\u001b[39mreload(ng)\n\u001b[0;32m      <a href='vscode-notebook-cell:/c%3A/Users/m4mou/Desktop/pmldl/textDetoxification-main/src/data_preparation/exp.ipynb#W6sZmlsZQ%3D%3D?line=4'>5</a>\u001b[0m \u001b[39m# sample = processed_data.select(range(10 ** 4))\u001b[39;00m\n\u001b[1;32m----> <a href='vscode-notebook-cell:/c%3A/Users/m4mou/Desktop/pmldl/textDetoxification-main/src/data_preparation/exp.ipynb#W6sZmlsZQ%3D%3D?line=5'>6</a>\u001b[0m uni, bi \u001b[39m=\u001b[39m ng\u001b[39m.\u001b[39;49mbuild_unigram_counter(processed_data)\n\u001b[0;32m      <a href='vscode-notebook-cell:/c%3A/Users/m4mou/Desktop/pmldl/textDetoxification-main/src/data_preparation/exp.ipynb#W6sZmlsZQ%3D%3D?line=6'>7</a>\u001b[0m ignore_map \u001b[39m=\u001b[39m ng\u001b[39m.\u001b[39mbuild_ignore_toxic_map(\u001b[39m0.1\u001b[39m, pr\u001b[39m.\u001b[39mstandard_stop_words())\n\u001b[0;32m      <a href='vscode-notebook-cell:/c%3A/Users/m4mou/Desktop/pmldl/textDetoxification-main/src/data_preparation/exp.ipynb#W6sZmlsZQ%3D%3D?line=7'>8</a>\u001b[0m \u001b[39m# ignore_map\u001b[39;00m\n",
      "File \u001b[1;32mc:\\Users\\m4mou\\Desktop\\pmldl\\textDetoxification-main\\src\\toxicity_scores\\n_grams.py:66\u001b[0m, in \u001b[0;36mbuild_unigram_counter\u001b[1;34m(dataset, save_folder)\u001b[0m\n\u001b[0;32m     63\u001b[0m uni_gram \u001b[39m=\u001b[39m defaultdict(\u001b[39mlambda\u001b[39;00m : {\u001b[39m\"\u001b[39m\u001b[39msource\u001b[39m\u001b[39m\"\u001b[39m: \u001b[39m0\u001b[39m, \u001b[39m\"\u001b[39m\u001b[39mtarget\u001b[39m\u001b[39m\"\u001b[39m: \u001b[39m0\u001b[39m})\n\u001b[0;32m     64\u001b[0m bi_gram \u001b[39m=\u001b[39m defaultdict(\u001b[39mlambda\u001b[39;00m: {\u001b[39m\"\u001b[39m\u001b[39msource\u001b[39m\u001b[39m\"\u001b[39m: \u001b[39m0\u001b[39m, \u001b[39m\"\u001b[39m\u001b[39mtarget\u001b[39m\u001b[39m\"\u001b[39m: \u001b[39m0\u001b[39m})\n\u001b[1;32m---> 66\u001b[0m dataset\u001b[39m.\u001b[39;49mmap(\u001b[39mlambda\u001b[39;49;00m b: _toxic_unigram_batch(b, uni_gram\u001b[39m=\u001b[39;49muni_gram, bi_gram\u001b[39m=\u001b[39;49mbi_gram, stop_words\u001b[39m=\u001b[39;49mstopwords), batched\u001b[39m=\u001b[39;49m\u001b[39mTrue\u001b[39;49;00m)\n\u001b[0;32m     68\u001b[0m save_folder \u001b[39m=\u001b[39m  os\u001b[39m.\u001b[39mpath\u001b[39m.\u001b[39mdirname(os\u001b[39m.\u001b[39mpath\u001b[39m.\u001b[39mrealpath(\u001b[39m__file__\u001b[39m)) \u001b[39mif\u001b[39;00m save_folder \u001b[39mis\u001b[39;00m \u001b[39mNone\u001b[39;00m \u001b[39melse\u001b[39;00m save_folder\n\u001b[0;32m     69\u001b[0m \u001b[39m# convert the default dict to a standard Dictionary before serializing it\u001b[39;00m\n",
      "File \u001b[1;32mc:\\Users\\m4mou\\AppData\\Local\\Programs\\Python\\Python311\\Lib\\site-packages\\datasets\\arrow_dataset.py:592\u001b[0m, in \u001b[0;36mtransmit_tasks.<locals>.wrapper\u001b[1;34m(*args, **kwargs)\u001b[0m\n\u001b[0;32m    590\u001b[0m     \u001b[39mself\u001b[39m: \u001b[39m\"\u001b[39m\u001b[39mDataset\u001b[39m\u001b[39m\"\u001b[39m \u001b[39m=\u001b[39m kwargs\u001b[39m.\u001b[39mpop(\u001b[39m\"\u001b[39m\u001b[39mself\u001b[39m\u001b[39m\"\u001b[39m)\n\u001b[0;32m    591\u001b[0m \u001b[39m# apply actual function\u001b[39;00m\n\u001b[1;32m--> 592\u001b[0m out: Union[\u001b[39m\"\u001b[39m\u001b[39mDataset\u001b[39m\u001b[39m\"\u001b[39m, \u001b[39m\"\u001b[39m\u001b[39mDatasetDict\u001b[39m\u001b[39m\"\u001b[39m] \u001b[39m=\u001b[39m func(\u001b[39mself\u001b[39;49m, \u001b[39m*\u001b[39;49margs, \u001b[39m*\u001b[39;49m\u001b[39m*\u001b[39;49mkwargs)\n\u001b[0;32m    593\u001b[0m datasets: List[\u001b[39m\"\u001b[39m\u001b[39mDataset\u001b[39m\u001b[39m\"\u001b[39m] \u001b[39m=\u001b[39m \u001b[39mlist\u001b[39m(out\u001b[39m.\u001b[39mvalues()) \u001b[39mif\u001b[39;00m \u001b[39misinstance\u001b[39m(out, \u001b[39mdict\u001b[39m) \u001b[39melse\u001b[39;00m [out]\n\u001b[0;32m    594\u001b[0m \u001b[39mfor\u001b[39;00m dataset \u001b[39min\u001b[39;00m datasets:\n\u001b[0;32m    595\u001b[0m     \u001b[39m# Remove task templates if a column mapping of the template is no longer valid\u001b[39;00m\n",
      "File \u001b[1;32mc:\\Users\\m4mou\\AppData\\Local\\Programs\\Python\\Python311\\Lib\\site-packages\\datasets\\arrow_dataset.py:557\u001b[0m, in \u001b[0;36mtransmit_format.<locals>.wrapper\u001b[1;34m(*args, **kwargs)\u001b[0m\n\u001b[0;32m    550\u001b[0m self_format \u001b[39m=\u001b[39m {\n\u001b[0;32m    551\u001b[0m     \u001b[39m\"\u001b[39m\u001b[39mtype\u001b[39m\u001b[39m\"\u001b[39m: \u001b[39mself\u001b[39m\u001b[39m.\u001b[39m_format_type,\n\u001b[0;32m    552\u001b[0m     \u001b[39m\"\u001b[39m\u001b[39mformat_kwargs\u001b[39m\u001b[39m\"\u001b[39m: \u001b[39mself\u001b[39m\u001b[39m.\u001b[39m_format_kwargs,\n\u001b[0;32m    553\u001b[0m     \u001b[39m\"\u001b[39m\u001b[39mcolumns\u001b[39m\u001b[39m\"\u001b[39m: \u001b[39mself\u001b[39m\u001b[39m.\u001b[39m_format_columns,\n\u001b[0;32m    554\u001b[0m     \u001b[39m\"\u001b[39m\u001b[39moutput_all_columns\u001b[39m\u001b[39m\"\u001b[39m: \u001b[39mself\u001b[39m\u001b[39m.\u001b[39m_output_all_columns,\n\u001b[0;32m    555\u001b[0m }\n\u001b[0;32m    556\u001b[0m \u001b[39m# apply actual function\u001b[39;00m\n\u001b[1;32m--> 557\u001b[0m out: Union[\u001b[39m\"\u001b[39m\u001b[39mDataset\u001b[39m\u001b[39m\"\u001b[39m, \u001b[39m\"\u001b[39m\u001b[39mDatasetDict\u001b[39m\u001b[39m\"\u001b[39m] \u001b[39m=\u001b[39m func(\u001b[39mself\u001b[39;49m, \u001b[39m*\u001b[39;49margs, \u001b[39m*\u001b[39;49m\u001b[39m*\u001b[39;49mkwargs)\n\u001b[0;32m    558\u001b[0m datasets: List[\u001b[39m\"\u001b[39m\u001b[39mDataset\u001b[39m\u001b[39m\"\u001b[39m] \u001b[39m=\u001b[39m \u001b[39mlist\u001b[39m(out\u001b[39m.\u001b[39mvalues()) \u001b[39mif\u001b[39;00m \u001b[39misinstance\u001b[39m(out, \u001b[39mdict\u001b[39m) \u001b[39melse\u001b[39;00m [out]\n\u001b[0;32m    559\u001b[0m \u001b[39m# re-apply format to the output\u001b[39;00m\n",
      "File \u001b[1;32mc:\\Users\\m4mou\\AppData\\Local\\Programs\\Python\\Python311\\Lib\\site-packages\\datasets\\arrow_dataset.py:3097\u001b[0m, in \u001b[0;36mDataset.map\u001b[1;34m(self, function, with_indices, with_rank, input_columns, batched, batch_size, drop_last_batch, remove_columns, keep_in_memory, load_from_cache_file, cache_file_name, writer_batch_size, features, disable_nullable, fn_kwargs, num_proc, suffix_template, new_fingerprint, desc)\u001b[0m\n\u001b[0;32m   3090\u001b[0m \u001b[39mif\u001b[39;00m transformed_dataset \u001b[39mis\u001b[39;00m \u001b[39mNone\u001b[39;00m:\n\u001b[0;32m   3091\u001b[0m     \u001b[39mwith\u001b[39;00m logging\u001b[39m.\u001b[39mtqdm(\n\u001b[0;32m   3092\u001b[0m         disable\u001b[39m=\u001b[39m\u001b[39mnot\u001b[39;00m logging\u001b[39m.\u001b[39mis_progress_bar_enabled(),\n\u001b[0;32m   3093\u001b[0m         unit\u001b[39m=\u001b[39m\u001b[39m\"\u001b[39m\u001b[39m examples\u001b[39m\u001b[39m\"\u001b[39m,\n\u001b[0;32m   3094\u001b[0m         total\u001b[39m=\u001b[39mpbar_total,\n\u001b[0;32m   3095\u001b[0m         desc\u001b[39m=\u001b[39mdesc \u001b[39mor\u001b[39;00m \u001b[39m\"\u001b[39m\u001b[39mMap\u001b[39m\u001b[39m\"\u001b[39m,\n\u001b[0;32m   3096\u001b[0m     ) \u001b[39mas\u001b[39;00m pbar:\n\u001b[1;32m-> 3097\u001b[0m         \u001b[39mfor\u001b[39;00m rank, done, content \u001b[39min\u001b[39;00m Dataset\u001b[39m.\u001b[39m_map_single(\u001b[39m*\u001b[39m\u001b[39m*\u001b[39mdataset_kwargs):\n\u001b[0;32m   3098\u001b[0m             \u001b[39mif\u001b[39;00m done:\n\u001b[0;32m   3099\u001b[0m                 shards_done \u001b[39m+\u001b[39m\u001b[39m=\u001b[39m \u001b[39m1\u001b[39m\n",
      "File \u001b[1;32mc:\\Users\\m4mou\\AppData\\Local\\Programs\\Python\\Python311\\Lib\\site-packages\\datasets\\arrow_dataset.py:3474\u001b[0m, in \u001b[0;36mDataset._map_single\u001b[1;34m(shard, function, with_indices, with_rank, input_columns, batched, batch_size, drop_last_batch, remove_columns, keep_in_memory, cache_file_name, writer_batch_size, features, disable_nullable, fn_kwargs, new_fingerprint, rank, offset)\u001b[0m\n\u001b[0;32m   3470\u001b[0m indices \u001b[39m=\u001b[39m \u001b[39mlist\u001b[39m(\n\u001b[0;32m   3471\u001b[0m     \u001b[39mrange\u001b[39m(\u001b[39m*\u001b[39m(\u001b[39mslice\u001b[39m(i, i \u001b[39m+\u001b[39m batch_size)\u001b[39m.\u001b[39mindices(shard\u001b[39m.\u001b[39mnum_rows)))\n\u001b[0;32m   3472\u001b[0m )  \u001b[39m# Something simpler?\u001b[39;00m\n\u001b[0;32m   3473\u001b[0m \u001b[39mtry\u001b[39;00m:\n\u001b[1;32m-> 3474\u001b[0m     batch \u001b[39m=\u001b[39m apply_function_on_filtered_inputs(\n\u001b[0;32m   3475\u001b[0m         batch,\n\u001b[0;32m   3476\u001b[0m         indices,\n\u001b[0;32m   3477\u001b[0m         check_same_num_examples\u001b[39m=\u001b[39;49m\u001b[39mlen\u001b[39;49m(shard\u001b[39m.\u001b[39;49mlist_indexes()) \u001b[39m>\u001b[39;49m \u001b[39m0\u001b[39;49m,\n\u001b[0;32m   3478\u001b[0m         offset\u001b[39m=\u001b[39;49moffset,\n\u001b[0;32m   3479\u001b[0m     )\n\u001b[0;32m   3480\u001b[0m \u001b[39mexcept\u001b[39;00m NumExamplesMismatchError:\n\u001b[0;32m   3481\u001b[0m     \u001b[39mraise\u001b[39;00m DatasetTransformationNotAllowedError(\n\u001b[0;32m   3482\u001b[0m         \u001b[39m\"\u001b[39m\u001b[39mUsing `.map` in batched mode on a dataset with attached indexes is allowed only if it doesn\u001b[39m\u001b[39m'\u001b[39m\u001b[39mt create or remove existing examples. You can first run `.drop_index() to remove your index and then re-add it.\u001b[39m\u001b[39m\"\u001b[39m\n\u001b[0;32m   3483\u001b[0m     ) \u001b[39mfrom\u001b[39;00m \u001b[39mNone\u001b[39;00m\n",
      "File \u001b[1;32mc:\\Users\\m4mou\\AppData\\Local\\Programs\\Python\\Python311\\Lib\\site-packages\\datasets\\arrow_dataset.py:3353\u001b[0m, in \u001b[0;36mDataset._map_single.<locals>.apply_function_on_filtered_inputs\u001b[1;34m(pa_inputs, indices, check_same_num_examples, offset)\u001b[0m\n\u001b[0;32m   3351\u001b[0m \u001b[39mif\u001b[39;00m with_rank:\n\u001b[0;32m   3352\u001b[0m     additional_args \u001b[39m+\u001b[39m\u001b[39m=\u001b[39m (rank,)\n\u001b[1;32m-> 3353\u001b[0m processed_inputs \u001b[39m=\u001b[39m function(\u001b[39m*\u001b[39;49mfn_args, \u001b[39m*\u001b[39;49madditional_args, \u001b[39m*\u001b[39;49m\u001b[39m*\u001b[39;49mfn_kwargs)\n\u001b[0;32m   3354\u001b[0m \u001b[39mif\u001b[39;00m \u001b[39misinstance\u001b[39m(processed_inputs, LazyDict):\n\u001b[0;32m   3355\u001b[0m     processed_inputs \u001b[39m=\u001b[39m {\n\u001b[0;32m   3356\u001b[0m         k: v \u001b[39mfor\u001b[39;00m k, v \u001b[39min\u001b[39;00m processed_inputs\u001b[39m.\u001b[39mdata\u001b[39m.\u001b[39mitems() \u001b[39mif\u001b[39;00m k \u001b[39mnot\u001b[39;00m \u001b[39min\u001b[39;00m processed_inputs\u001b[39m.\u001b[39mkeys_to_format\n\u001b[0;32m   3357\u001b[0m     }\n",
      "File \u001b[1;32mc:\\Users\\m4mou\\Desktop\\pmldl\\textDetoxification-main\\src\\toxicity_scores\\n_grams.py:66\u001b[0m, in \u001b[0;36mbuild_unigram_counter.<locals>.<lambda>\u001b[1;34m(b)\u001b[0m\n\u001b[0;32m     63\u001b[0m uni_gram \u001b[39m=\u001b[39m defaultdict(\u001b[39mlambda\u001b[39;00m : {\u001b[39m\"\u001b[39m\u001b[39msource\u001b[39m\u001b[39m\"\u001b[39m: \u001b[39m0\u001b[39m, \u001b[39m\"\u001b[39m\u001b[39mtarget\u001b[39m\u001b[39m\"\u001b[39m: \u001b[39m0\u001b[39m})\n\u001b[0;32m     64\u001b[0m bi_gram \u001b[39m=\u001b[39m defaultdict(\u001b[39mlambda\u001b[39;00m: {\u001b[39m\"\u001b[39m\u001b[39msource\u001b[39m\u001b[39m\"\u001b[39m: \u001b[39m0\u001b[39m, \u001b[39m\"\u001b[39m\u001b[39mtarget\u001b[39m\u001b[39m\"\u001b[39m: \u001b[39m0\u001b[39m})\n\u001b[1;32m---> 66\u001b[0m dataset\u001b[39m.\u001b[39mmap(\u001b[39mlambda\u001b[39;00m b: _toxic_unigram_batch(b, uni_gram\u001b[39m=\u001b[39;49muni_gram, bi_gram\u001b[39m=\u001b[39;49mbi_gram, stop_words\u001b[39m=\u001b[39;49mstopwords), batched\u001b[39m=\u001b[39m\u001b[39mTrue\u001b[39;00m)\n\u001b[0;32m     68\u001b[0m save_folder \u001b[39m=\u001b[39m  os\u001b[39m.\u001b[39mpath\u001b[39m.\u001b[39mdirname(os\u001b[39m.\u001b[39mpath\u001b[39m.\u001b[39mrealpath(\u001b[39m__file__\u001b[39m)) \u001b[39mif\u001b[39;00m save_folder \u001b[39mis\u001b[39;00m \u001b[39mNone\u001b[39;00m \u001b[39melse\u001b[39;00m save_folder\n\u001b[0;32m     69\u001b[0m \u001b[39m# convert the default dict to a standard Dictionary before serializing it\u001b[39;00m\n",
      "File \u001b[1;32mc:\\Users\\m4mou\\Desktop\\pmldl\\textDetoxification-main\\src\\toxicity_scores\\n_grams.py:53\u001b[0m, in \u001b[0;36m_toxic_unigram_batch\u001b[1;34m(batch, uni_gram, bi_gram, stop_words)\u001b[0m\n\u001b[0;32m     51\u001b[0m \u001b[39mdef\u001b[39;00m \u001b[39m_toxic_unigram_batch\u001b[39m(batch: Dict, uni_gram, bi_gram, stop_words):\n\u001b[0;32m     52\u001b[0m     \u001b[39m# write the code as list comprehension for computational efficiency.\u001b[39;00m\n\u001b[1;32m---> 53\u001b[0m     _ \u001b[39m=\u001b[39m [_toxic_unigram_row(source_txt\u001b[39m=\u001b[39;49ms, target_txt\u001b[39m=\u001b[39;49mt, \n\u001b[0;32m     54\u001b[0m                             uni_gram\u001b[39m=\u001b[39;49muni_gram, \n\u001b[0;32m     55\u001b[0m                             bi_gram\u001b[39m=\u001b[39;49mbi_gram, \n\u001b[0;32m     56\u001b[0m                             stop_words_set\u001b[39m=\u001b[39;49mstop_words) \u001b[39mfor\u001b[39;49;00m s, t \u001b[39min\u001b[39;49;00m \u001b[39mzip\u001b[39;49m(batch[\u001b[39m'\u001b[39;49m\u001b[39msource\u001b[39;49m\u001b[39m'\u001b[39;49m], batch[\u001b[39m'\u001b[39;49m\u001b[39mtarget\u001b[39;49m\u001b[39m'\u001b[39;49m])]\n\u001b[0;32m     57\u001b[0m     \u001b[39mreturn\u001b[39;00m batch\n",
      "File \u001b[1;32mc:\\Users\\m4mou\\Desktop\\pmldl\\textDetoxification-main\\src\\toxicity_scores\\n_grams.py:53\u001b[0m, in \u001b[0;36m<listcomp>\u001b[1;34m(.0)\u001b[0m\n\u001b[0;32m     51\u001b[0m \u001b[39mdef\u001b[39;00m \u001b[39m_toxic_unigram_batch\u001b[39m(batch: Dict, uni_gram, bi_gram, stop_words):\n\u001b[0;32m     52\u001b[0m     \u001b[39m# write the code as list comprehension for computational efficiency.\u001b[39;00m\n\u001b[1;32m---> 53\u001b[0m     _ \u001b[39m=\u001b[39m [_toxic_unigram_row(source_txt\u001b[39m=\u001b[39;49ms, target_txt\u001b[39m=\u001b[39;49mt, \n\u001b[0;32m     54\u001b[0m                             uni_gram\u001b[39m=\u001b[39;49muni_gram, \n\u001b[0;32m     55\u001b[0m                             bi_gram\u001b[39m=\u001b[39;49mbi_gram, \n\u001b[0;32m     56\u001b[0m                             stop_words_set\u001b[39m=\u001b[39;49mstop_words) \u001b[39mfor\u001b[39;00m s, t \u001b[39min\u001b[39;00m \u001b[39mzip\u001b[39m(batch[\u001b[39m'\u001b[39m\u001b[39msource\u001b[39m\u001b[39m'\u001b[39m], batch[\u001b[39m'\u001b[39m\u001b[39mtarget\u001b[39m\u001b[39m'\u001b[39m])]\n\u001b[0;32m     57\u001b[0m     \u001b[39mreturn\u001b[39;00m batch\n",
      "File \u001b[1;32mc:\\Users\\m4mou\\Desktop\\pmldl\\textDetoxification-main\\src\\toxicity_scores\\n_grams.py:34\u001b[0m, in \u001b[0;36m_toxic_unigram_row\u001b[1;34m(source_txt, target_txt, uni_gram, bi_gram, stop_words_set)\u001b[0m\n\u001b[0;32m     33\u001b[0m \u001b[39mdef\u001b[39;00m \u001b[39m_toxic_unigram_row\u001b[39m(source_txt, target_txt, uni_gram, bi_gram, stop_words_set):\n\u001b[1;32m---> 34\u001b[0m     source_ids, target_ids \u001b[39m=\u001b[39m _prepare_sentence(source_txt, stop_words_set), _prepare_sentence(target_txt, stop_words_set)   \n\u001b[0;32m     36\u001b[0m     \u001b[39m# add the uni grams\u001b[39;00m\n\u001b[0;32m     37\u001b[0m     \u001b[39mfor\u001b[39;00m i \u001b[39min\u001b[39;00m source_ids:\n",
      "File \u001b[1;32mc:\\Users\\m4mou\\Desktop\\pmldl\\textDetoxification-main\\src\\toxicity_scores\\n_grams.py:30\u001b[0m, in \u001b[0;36m_prepare_sentence\u001b[1;34m(sentence, stop_words_set)\u001b[0m\n\u001b[0;32m     28\u001b[0m lem \u001b[39m=\u001b[39m WordNetLemmatizer()\n\u001b[0;32m     29\u001b[0m \u001b[39m# nested calls were a design choice to ensure the least amount of overhead.\u001b[39;00m\n\u001b[1;32m---> 30\u001b[0m result \u001b[39m=\u001b[39m  [lem\u001b[39m.\u001b[39mlemmatize(t) \u001b[39mfor\u001b[39;00m t \u001b[39min\u001b[39;00m pr\u001b[39m.\u001b[39;49mtokenize(sentence) \u001b[39mif\u001b[39;00m t\u001b[39m.\u001b[39misalpha() \u001b[39mand\u001b[39;00m t \u001b[39mnot\u001b[39;00m \u001b[39min\u001b[39;00m stop_words_set]\n\u001b[0;32m     31\u001b[0m \u001b[39mreturn\u001b[39;00m result\n",
      "File \u001b[1;32mc:\\Users\\m4mou\\Desktop\\pmldl\\textDetoxification-main\\src\\text_processing\\preprocess.py:88\u001b[0m, in \u001b[0;36mtokenize\u001b[1;34m(sentence, tokenizer_type)\u001b[0m\n\u001b[0;32m     85\u001b[0m     \u001b[39mraise\u001b[39;00m \u001b[39mValueError\u001b[39;00m(\u001b[39mf\u001b[39m\u001b[39m\"\u001b[39m\u001b[39mPlease make sure to pass a supported tokenizer_type: \u001b[39m\u001b[39m{\u001b[39;00m[\u001b[39m'\u001b[39m\u001b[39mtwitter\u001b[39m\u001b[39m'\u001b[39m,\u001b[39m \u001b[39m\u001b[39m'\u001b[39m\u001b[39mspace\u001b[39m\u001b[39m'\u001b[39m,\u001b[39m \u001b[39m\u001b[39m'\u001b[39m\u001b[39mword\u001b[39m\u001b[39m'\u001b[39m]\u001b[39m}\u001b[39;00m\u001b[39m\"\u001b[39m)\n\u001b[0;32m     87\u001b[0m tokenizers \u001b[39m=\u001b[39m {\u001b[39m'\u001b[39m\u001b[39mtweet\u001b[39m\u001b[39m'\u001b[39m: _tweek_tokenize, \u001b[39m'\u001b[39m\u001b[39mspace\u001b[39m\u001b[39m'\u001b[39m: _space_tokenize, \u001b[39m\"\u001b[39m\u001b[39mword\u001b[39m\u001b[39m\"\u001b[39m: _word_tokenize}\n\u001b[1;32m---> 88\u001b[0m \u001b[39mreturn\u001b[39;00m tokenizers[tokenizer_type](sentence)\n",
      "File \u001b[1;32mc:\\Users\\m4mou\\Desktop\\pmldl\\textDetoxification-main\\src\\text_processing\\preprocess.py:75\u001b[0m, in \u001b[0;36m_tweek_tokenize\u001b[1;34m(sentence)\u001b[0m\n\u001b[0;32m     74\u001b[0m \u001b[39mdef\u001b[39;00m \u001b[39m_tweek_tokenize\u001b[39m(sentence: \u001b[39mstr\u001b[39m) \u001b[39m-\u001b[39m\u001b[39m>\u001b[39m List[\u001b[39mstr\u001b[39m]:\n\u001b[1;32m---> 75\u001b[0m     \u001b[39mreturn\u001b[39;00m TweetTokenizer()\u001b[39m.\u001b[39;49mtokenize(sentence)\n",
      "File \u001b[1;32mc:\\Users\\m4mou\\AppData\\Local\\Programs\\Python\\Python311\\Lib\\site-packages\\nltk\\tokenize\\casual.py:369\u001b[0m, in \u001b[0;36mTweetTokenizer.tokenize\u001b[1;34m(self, text)\u001b[0m\n\u001b[0;32m    361\u001b[0m \u001b[39m\u001b[39m\u001b[39m\"\"\"Tokenize the input text.\u001b[39;00m\n\u001b[0;32m    362\u001b[0m \n\u001b[0;32m    363\u001b[0m \u001b[39m:param text: str\u001b[39;00m\n\u001b[1;32m   (...)\u001b[0m\n\u001b[0;32m    366\u001b[0m \u001b[39mthe original string if `preserve_case=False`.\u001b[39;00m\n\u001b[0;32m    367\u001b[0m \u001b[39m\"\"\"\u001b[39;00m\n\u001b[0;32m    368\u001b[0m \u001b[39m# Fix HTML character entities:\u001b[39;00m\n\u001b[1;32m--> 369\u001b[0m text \u001b[39m=\u001b[39m _replace_html_entities(text)\n\u001b[0;32m    370\u001b[0m \u001b[39m# Remove username handles\u001b[39;00m\n\u001b[0;32m    371\u001b[0m \u001b[39mif\u001b[39;00m \u001b[39mself\u001b[39m\u001b[39m.\u001b[39mstrip_handles:\n",
      "File \u001b[1;32mc:\\Users\\m4mou\\AppData\\Local\\Programs\\Python\\Python311\\Lib\\site-packages\\nltk\\tokenize\\casual.py:300\u001b[0m, in \u001b[0;36m_replace_html_entities\u001b[1;34m(text, keep, remove_illegal, encoding)\u001b[0m\n\u001b[0;32m    296\u001b[0m             \u001b[39mpass\u001b[39;00m\n\u001b[0;32m    298\u001b[0m     \u001b[39mreturn\u001b[39;00m \u001b[39m\"\u001b[39m\u001b[39m\"\u001b[39m \u001b[39mif\u001b[39;00m remove_illegal \u001b[39melse\u001b[39;00m match\u001b[39m.\u001b[39mgroup(\u001b[39m0\u001b[39m)\n\u001b[1;32m--> 300\u001b[0m \u001b[39mreturn\u001b[39;00m ENT_RE\u001b[39m.\u001b[39;49msub(_convert_entity, _str_to_unicode(text, encoding))\n",
      "\u001b[1;31mTypeError\u001b[0m: expected string or buffer"
     ]
    }
   ],
   "source": [
    "# let's take a small smaple of 10000 rows\n",
    "from src.toxicity_scores import n_grams as ng\n",
    "import importlib\n",
    "importlib.reload(ng)\n",
    "# sample = processed_data.select(range(10 ** 4))\n",
    "uni, bi = ng.build_unigram_counter(processed_data)\n",
    "ignore_map = ng.build_ignore_toxic_map(0.1, pr.standard_stop_words())\n",
    "# ignore_map"
   ]
  },
  {
   "cell_type": "code",
   "execution_count": 9,
   "metadata": {},
   "outputs": [
    {
     "ename": "NameError",
     "evalue": "name 'uni' is not defined",
     "output_type": "error",
     "traceback": [
      "\u001b[1;31m---------------------------------------------------------------------------\u001b[0m",
      "\u001b[1;31mNameError\u001b[0m                                 Traceback (most recent call last)",
      "\u001b[1;32mc:\\Users\\m4mou\\Desktop\\pmldl\\textDetoxification-main\\src\\data_preparation\\exp.ipynb Cell 8\u001b[0m line \u001b[0;36m1\n\u001b[1;32m----> <a href='vscode-notebook-cell:/c%3A/Users/m4mou/Desktop/pmldl/textDetoxification-main/src/data_preparation/exp.ipynb#X10sZmlsZQ%3D%3D?line=0'>1</a>\u001b[0m u, b \u001b[39m=\u001b[39m \u001b[39mdict\u001b[39m([(k, (v[\u001b[39m\"\u001b[39m\u001b[39msource\u001b[39m\u001b[39m\"\u001b[39m] \u001b[39m+\u001b[39m \u001b[39m1\u001b[39m) \u001b[39m/\u001b[39m (v[\u001b[39m\"\u001b[39m\u001b[39mtarget\u001b[39m\u001b[39m\"\u001b[39m] \u001b[39m+\u001b[39m \u001b[39m1\u001b[39m)) \u001b[39mfor\u001b[39;00m k, v \u001b[39min\u001b[39;00m uni\u001b[39m.\u001b[39mitems()]) , \u001b[39mdict\u001b[39m([(k, (v[\u001b[39m\"\u001b[39m\u001b[39msource\u001b[39m\u001b[39m\"\u001b[39m] \u001b[39m+\u001b[39m \u001b[39m1\u001b[39m) \u001b[39m/\u001b[39m (v[\u001b[39m\"\u001b[39m\u001b[39mtarget\u001b[39m\u001b[39m\"\u001b[39m] \u001b[39m+\u001b[39m \u001b[39m1\u001b[39m)) \u001b[39mfor\u001b[39;00m k, v \u001b[39min\u001b[39;00m bi\u001b[39m.\u001b[39mitems()]) \n",
      "\u001b[1;31mNameError\u001b[0m: name 'uni' is not defined"
     ]
    }
   ],
   "source": [
    "u, b = dict([(k, (v[\"source\"] + 1) / (v[\"target\"] + 1)) for k, v in uni.items()]) , dict([(k, (v[\"source\"] + 1) / (v[\"target\"] + 1)) for k, v in bi.items()]) "
   ]
  },
  {
   "cell_type": "code",
   "execution_count": 10,
   "metadata": {},
   "outputs": [
    {
     "ename": "NameError",
     "evalue": "name 'ignore_map' is not defined",
     "output_type": "error",
     "traceback": [
      "\u001b[1;31m---------------------------------------------------------------------------\u001b[0m",
      "\u001b[1;31mNameError\u001b[0m                                 Traceback (most recent call last)",
      "\u001b[1;32mc:\\Users\\m4mou\\Desktop\\pmldl\\textDetoxification-main\\src\\data_preparation\\exp.ipynb Cell 9\u001b[0m line \u001b[0;36m4\n\u001b[0;32m      <a href='vscode-notebook-cell:/c%3A/Users/m4mou/Desktop/pmldl/textDetoxification-main/src/data_preparation/exp.ipynb#X11sZmlsZQ%3D%3D?line=1'>2</a>\u001b[0m s \u001b[39m=\u001b[39m \u001b[39m\"\u001b[39m\u001b[39mAre you a nice person ?\u001b[39m\u001b[39m\"\u001b[39m\n\u001b[0;32m      <a href='vscode-notebook-cell:/c%3A/Users/m4mou/Desktop/pmldl/textDetoxification-main/src/data_preparation/exp.ipynb#X11sZmlsZQ%3D%3D?line=2'>3</a>\u001b[0m ids \u001b[39m=\u001b[39m ng\u001b[39m.\u001b[39m_prepare_sentence(s, pr\u001b[39m.\u001b[39mstandard_stop_words())\n\u001b[1;32m----> <a href='vscode-notebook-cell:/c%3A/Users/m4mou/Desktop/pmldl/textDetoxification-main/src/data_preparation/exp.ipynb#X11sZmlsZQ%3D%3D?line=3'>4</a>\u001b[0m ng\u001b[39m.\u001b[39mindices_toxicity_score(indices\u001b[39m=\u001b[39mids, ignore_map\u001b[39m=\u001b[39mignore_map, uni_gram\u001b[39m=\u001b[39mu, bi_gram\u001b[39m=\u001b[39mb, default_toxicity\u001b[39m=\u001b[39m\u001b[39m0.1\u001b[39m)\n",
      "\u001b[1;31mNameError\u001b[0m: name 'ignore_map' is not defined"
     ]
    }
   ],
   "source": [
    "importlib.reload(ng)\n",
    "s = \"Are you a nice person ?\"\n",
    "ids = ng._prepare_sentence(s, pr.standard_stop_words())\n",
    "ng.indices_toxicity_score(indices=ids, ignore_map=ignore_map, uni_gram=u, bi_gram=b, default_toxicity=0.1)"
   ]
  },
  {
   "cell_type": "code",
   "execution_count": null,
   "metadata": {},
   "outputs": [],
   "source": [
    "from transformers import AutoTokenizer, DistilBertModel\n",
    "bert_tokenizer = AutoTokenizer.from_pretrained(\"distilbert-base-uncased\")\n",
    "bert = DistilBertModel.from_pretrained(\"distilbert-base-uncased\")\n",
    "# bert_tokenizer.convert_ids_to_tokens([6583, 2131])"
   ]
  },
  {
   "cell_type": "code",
   "execution_count": null,
   "metadata": {},
   "outputs": [],
   "source": [
    "import pickle\n",
    "with open(os.path.join(PARENT_DIR, 'src', 'toxicity_scores', 'uni_gram.pk'), 'rb') as f:\n",
    "    counter_loaded = pickle.load(f) "
   ]
  }
 ],
 "metadata": {
  "kernelspec": {
   "display_name": "env",
   "language": "python",
   "name": "python3"
  },
  "language_info": {
   "codemirror_mode": {
    "name": "ipython",
    "version": 3
   },
   "file_extension": ".py",
   "mimetype": "text/x-python",
   "name": "python",
   "nbconvert_exporter": "python",
   "pygments_lexer": "ipython3",
   "version": "3.11.4"
  }
 },
 "nbformat": 4,
 "nbformat_minor": 2
}
