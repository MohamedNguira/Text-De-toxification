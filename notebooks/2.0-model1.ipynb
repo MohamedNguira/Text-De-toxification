{
 "cells": [
  {
   "cell_type": "markdown",
   "metadata": {},
   "source": [
    "# Imports and Data Loading"
   ]
  },
  {
   "cell_type": "code",
   "execution_count": 1,
   "metadata": {},
   "outputs": [],
   "source": [
    "# the notebook's main objective is to filter and prepare the dataset to train a summarizer on it.\n",
    "import os, sys\n",
    "from pathlib import Path\n",
    "HOME = os.getcwd()\n",
    "\n",
    "current = HOME \n",
    "while 'src' not in os.listdir(current):\n",
    "    current = Path(current).parent\n",
    "\n",
    "\n",
    "PARENT_DIR = str(current)\n",
    "DATA_FOLDER = os.path.join(PARENT_DIR, 'src', 'data')\n",
    "data_path = os.path.join(DATA_FOLDER, 'filtered.tsv')\n",
    "sys.path.append(str(current))\n",
    "sys.path.append(os.path.join(str(current), 'data_analysis'))\n",
    "sys.path.append(os.path.join(str(current), 'evaluation'))\n",
    "sys.path.append(os.path.join(str(current), 'text_processing'))\n",
    "sys.path.append(os.path.join(str(current), 'models'))\n"
   ]
  },
  {
   "cell_type": "code",
   "execution_count": 2,
   "metadata": {},
   "outputs": [
    {
     "ename": "FileNotFoundError",
     "evalue": "Unable to find 'c:\\Users\\m4mou\\Desktop\\pmldl\\textDetoxification-main\\src\\data\\all_data_processed.csv'",
     "output_type": "error",
     "traceback": [
      "\u001b[1;31m---------------------------------------------------------------------------\u001b[0m",
      "\u001b[1;31mFileNotFoundError\u001b[0m                         Traceback (most recent call last)",
      "\u001b[1;32mc:\\Users\\m4mou\\Desktop\\pmldl\\textDetoxification-main\\src\\data_analysis\\build_summarizer_train_data.ipynb Cell 3\u001b[0m line \u001b[0;36m2\n\u001b[0;32m      <a href='vscode-notebook-cell:/c%3A/Users/m4mou/Desktop/pmldl/textDetoxification-main/src/data_analysis/build_summarizer_train_data.ipynb#W2sZmlsZQ%3D%3D?line=0'>1</a>\u001b[0m \u001b[39mfrom\u001b[39;00m \u001b[39mdatasets\u001b[39;00m \u001b[39mimport\u001b[39;00m load_dataset\n\u001b[1;32m----> <a href='vscode-notebook-cell:/c%3A/Users/m4mou/Desktop/pmldl/textDetoxification-main/src/data_analysis/build_summarizer_train_data.ipynb#W2sZmlsZQ%3D%3D?line=1'>2</a>\u001b[0m all_data \u001b[39m=\u001b[39m load_dataset(\u001b[39m'\u001b[39;49m\u001b[39mcsv\u001b[39;49m\u001b[39m'\u001b[39;49m, data_files\u001b[39m=\u001b[39;49mos\u001b[39m.\u001b[39;49mpath\u001b[39m.\u001b[39;49mjoin(DATA_FOLDER, \u001b[39m'\u001b[39;49m\u001b[39mall_data_processed.csv\u001b[39;49m\u001b[39m'\u001b[39;49m), split\u001b[39m=\u001b[39;49m\u001b[39m'\u001b[39;49m\u001b[39mtrain\u001b[39;49m\u001b[39m'\u001b[39;49m)\n\u001b[0;32m      <a href='vscode-notebook-cell:/c%3A/Users/m4mou/Desktop/pmldl/textDetoxification-main/src/data_analysis/build_summarizer_train_data.ipynb#W2sZmlsZQ%3D%3D?line=2'>3</a>\u001b[0m all_data \u001b[39m=\u001b[39m all_data\u001b[39m.\u001b[39mfilter(\u001b[39mlambda\u001b[39;00m s: (\u001b[39misinstance\u001b[39m(s[\u001b[39m'\u001b[39m\u001b[39msource\u001b[39m\u001b[39m'\u001b[39m], \u001b[39mstr\u001b[39m) \u001b[39mand\u001b[39;00m \u001b[39misinstance\u001b[39m(s[\u001b[39m'\u001b[39m\u001b[39mtarget\u001b[39m\u001b[39m'\u001b[39m], \u001b[39mstr\u001b[39m)))\n",
      "File \u001b[1;32mc:\\Users\\m4mou\\AppData\\Local\\Programs\\Python\\Python311\\Lib\\site-packages\\datasets\\load.py:2129\u001b[0m, in \u001b[0;36mload_dataset\u001b[1;34m(path, name, data_dir, data_files, split, cache_dir, features, download_config, download_mode, verification_mode, ignore_verifications, keep_in_memory, save_infos, revision, token, use_auth_token, task, streaming, num_proc, storage_options, **config_kwargs)\u001b[0m\n\u001b[0;32m   2124\u001b[0m verification_mode \u001b[39m=\u001b[39m VerificationMode(\n\u001b[0;32m   2125\u001b[0m     (verification_mode \u001b[39mor\u001b[39;00m VerificationMode\u001b[39m.\u001b[39mBASIC_CHECKS) \u001b[39mif\u001b[39;00m \u001b[39mnot\u001b[39;00m save_infos \u001b[39melse\u001b[39;00m VerificationMode\u001b[39m.\u001b[39mALL_CHECKS\n\u001b[0;32m   2126\u001b[0m )\n\u001b[0;32m   2128\u001b[0m \u001b[39m# Create a dataset builder\u001b[39;00m\n\u001b[1;32m-> 2129\u001b[0m builder_instance \u001b[39m=\u001b[39m load_dataset_builder(\n\u001b[0;32m   2130\u001b[0m     path\u001b[39m=\u001b[39;49mpath,\n\u001b[0;32m   2131\u001b[0m     name\u001b[39m=\u001b[39;49mname,\n\u001b[0;32m   2132\u001b[0m     data_dir\u001b[39m=\u001b[39;49mdata_dir,\n\u001b[0;32m   2133\u001b[0m     data_files\u001b[39m=\u001b[39;49mdata_files,\n\u001b[0;32m   2134\u001b[0m     cache_dir\u001b[39m=\u001b[39;49mcache_dir,\n\u001b[0;32m   2135\u001b[0m     features\u001b[39m=\u001b[39;49mfeatures,\n\u001b[0;32m   2136\u001b[0m     download_config\u001b[39m=\u001b[39;49mdownload_config,\n\u001b[0;32m   2137\u001b[0m     download_mode\u001b[39m=\u001b[39;49mdownload_mode,\n\u001b[0;32m   2138\u001b[0m     revision\u001b[39m=\u001b[39;49mrevision,\n\u001b[0;32m   2139\u001b[0m     token\u001b[39m=\u001b[39;49mtoken,\n\u001b[0;32m   2140\u001b[0m     storage_options\u001b[39m=\u001b[39;49mstorage_options,\n\u001b[0;32m   2141\u001b[0m     \u001b[39m*\u001b[39;49m\u001b[39m*\u001b[39;49mconfig_kwargs,\n\u001b[0;32m   2142\u001b[0m )\n\u001b[0;32m   2144\u001b[0m \u001b[39m# Return iterable dataset in case of streaming\u001b[39;00m\n\u001b[0;32m   2145\u001b[0m \u001b[39mif\u001b[39;00m streaming:\n",
      "File \u001b[1;32mc:\\Users\\m4mou\\AppData\\Local\\Programs\\Python\\Python311\\Lib\\site-packages\\datasets\\load.py:1815\u001b[0m, in \u001b[0;36mload_dataset_builder\u001b[1;34m(path, name, data_dir, data_files, cache_dir, features, download_config, download_mode, revision, token, use_auth_token, storage_options, **config_kwargs)\u001b[0m\n\u001b[0;32m   1813\u001b[0m     download_config \u001b[39m=\u001b[39m download_config\u001b[39m.\u001b[39mcopy() \u001b[39mif\u001b[39;00m download_config \u001b[39melse\u001b[39;00m DownloadConfig()\n\u001b[0;32m   1814\u001b[0m     download_config\u001b[39m.\u001b[39mstorage_options\u001b[39m.\u001b[39mupdate(storage_options)\n\u001b[1;32m-> 1815\u001b[0m dataset_module \u001b[39m=\u001b[39m dataset_module_factory(\n\u001b[0;32m   1816\u001b[0m     path,\n\u001b[0;32m   1817\u001b[0m     revision\u001b[39m=\u001b[39;49mrevision,\n\u001b[0;32m   1818\u001b[0m     download_config\u001b[39m=\u001b[39;49mdownload_config,\n\u001b[0;32m   1819\u001b[0m     download_mode\u001b[39m=\u001b[39;49mdownload_mode,\n\u001b[0;32m   1820\u001b[0m     data_dir\u001b[39m=\u001b[39;49mdata_dir,\n\u001b[0;32m   1821\u001b[0m     data_files\u001b[39m=\u001b[39;49mdata_files,\n\u001b[0;32m   1822\u001b[0m )\n\u001b[0;32m   1823\u001b[0m \u001b[39m# Get dataset builder class from the processing script\u001b[39;00m\n\u001b[0;32m   1824\u001b[0m builder_kwargs \u001b[39m=\u001b[39m dataset_module\u001b[39m.\u001b[39mbuilder_kwargs\n",
      "File \u001b[1;32mc:\\Users\\m4mou\\AppData\\Local\\Programs\\Python\\Python311\\Lib\\site-packages\\datasets\\load.py:1430\u001b[0m, in \u001b[0;36mdataset_module_factory\u001b[1;34m(path, revision, download_config, download_mode, dynamic_modules_path, data_dir, data_files, **download_kwargs)\u001b[0m\n\u001b[0;32m   1407\u001b[0m \u001b[39m# We have several ways to get a dataset builder:\u001b[39;00m\n\u001b[0;32m   1408\u001b[0m \u001b[39m#\u001b[39;00m\n\u001b[0;32m   1409\u001b[0m \u001b[39m# - if path is the name of a packaged dataset module\u001b[39;00m\n\u001b[1;32m   (...)\u001b[0m\n\u001b[0;32m   1421\u001b[0m \n\u001b[0;32m   1422\u001b[0m \u001b[39m# Try packaged\u001b[39;00m\n\u001b[0;32m   1423\u001b[0m \u001b[39mif\u001b[39;00m path \u001b[39min\u001b[39;00m _PACKAGED_DATASETS_MODULES:\n\u001b[0;32m   1424\u001b[0m     \u001b[39mreturn\u001b[39;00m PackagedDatasetModuleFactory(\n\u001b[0;32m   1425\u001b[0m         path,\n\u001b[0;32m   1426\u001b[0m         data_dir\u001b[39m=\u001b[39;49mdata_dir,\n\u001b[0;32m   1427\u001b[0m         data_files\u001b[39m=\u001b[39;49mdata_files,\n\u001b[0;32m   1428\u001b[0m         download_config\u001b[39m=\u001b[39;49mdownload_config,\n\u001b[0;32m   1429\u001b[0m         download_mode\u001b[39m=\u001b[39;49mdownload_mode,\n\u001b[1;32m-> 1430\u001b[0m     )\u001b[39m.\u001b[39;49mget_module()\n\u001b[0;32m   1431\u001b[0m \u001b[39m# Try locally\u001b[39;00m\n\u001b[0;32m   1432\u001b[0m \u001b[39melif\u001b[39;00m path\u001b[39m.\u001b[39mendswith(filename):\n",
      "File \u001b[1;32mc:\\Users\\m4mou\\AppData\\Local\\Programs\\Python\\Python311\\Lib\\site-packages\\datasets\\load.py:958\u001b[0m, in \u001b[0;36mPackagedDatasetModuleFactory.get_module\u001b[1;34m(self)\u001b[0m\n\u001b[0;32m    956\u001b[0m base_path \u001b[39m=\u001b[39m Path(\u001b[39mself\u001b[39m\u001b[39m.\u001b[39mdata_dir \u001b[39mor\u001b[39;00m \u001b[39m\"\u001b[39m\u001b[39m\"\u001b[39m)\u001b[39m.\u001b[39mexpanduser()\u001b[39m.\u001b[39mresolve()\u001b[39m.\u001b[39mas_posix()\n\u001b[0;32m    957\u001b[0m patterns \u001b[39m=\u001b[39m sanitize_patterns(\u001b[39mself\u001b[39m\u001b[39m.\u001b[39mdata_files) \u001b[39mif\u001b[39;00m \u001b[39mself\u001b[39m\u001b[39m.\u001b[39mdata_files \u001b[39mis\u001b[39;00m \u001b[39mnot\u001b[39;00m \u001b[39mNone\u001b[39;00m \u001b[39melse\u001b[39;00m get_data_patterns(base_path)\n\u001b[1;32m--> 958\u001b[0m data_files \u001b[39m=\u001b[39m DataFilesDict\u001b[39m.\u001b[39;49mfrom_patterns(\n\u001b[0;32m    959\u001b[0m     patterns,\n\u001b[0;32m    960\u001b[0m     download_config\u001b[39m=\u001b[39;49m\u001b[39mself\u001b[39;49m\u001b[39m.\u001b[39;49mdownload_config,\n\u001b[0;32m    961\u001b[0m     base_path\u001b[39m=\u001b[39;49mbase_path,\n\u001b[0;32m    962\u001b[0m )\n\u001b[0;32m    963\u001b[0m supports_metadata \u001b[39m=\u001b[39m \u001b[39mself\u001b[39m\u001b[39m.\u001b[39mname \u001b[39min\u001b[39;00m _MODULE_SUPPORTS_METADATA\n\u001b[0;32m    964\u001b[0m \u001b[39mif\u001b[39;00m \u001b[39mself\u001b[39m\u001b[39m.\u001b[39mdata_files \u001b[39mis\u001b[39;00m \u001b[39mNone\u001b[39;00m \u001b[39mand\u001b[39;00m supports_metadata \u001b[39mand\u001b[39;00m patterns \u001b[39m!=\u001b[39m DEFAULT_PATTERNS_ALL:\n",
      "File \u001b[1;32mc:\\Users\\m4mou\\AppData\\Local\\Programs\\Python\\Python311\\Lib\\site-packages\\datasets\\data_files.py:686\u001b[0m, in \u001b[0;36mDataFilesDict.from_patterns\u001b[1;34m(cls, patterns, base_path, allowed_extensions, download_config)\u001b[0m\n\u001b[0;32m    683\u001b[0m out \u001b[39m=\u001b[39m \u001b[39mcls\u001b[39m()\n\u001b[0;32m    684\u001b[0m \u001b[39mfor\u001b[39;00m key, patterns_for_key \u001b[39min\u001b[39;00m patterns\u001b[39m.\u001b[39mitems():\n\u001b[0;32m    685\u001b[0m     out[key] \u001b[39m=\u001b[39m (\n\u001b[1;32m--> 686\u001b[0m         DataFilesList\u001b[39m.\u001b[39;49mfrom_patterns(\n\u001b[0;32m    687\u001b[0m             patterns_for_key,\n\u001b[0;32m    688\u001b[0m             base_path\u001b[39m=\u001b[39;49mbase_path,\n\u001b[0;32m    689\u001b[0m             allowed_extensions\u001b[39m=\u001b[39;49mallowed_extensions,\n\u001b[0;32m    690\u001b[0m             download_config\u001b[39m=\u001b[39;49mdownload_config,\n\u001b[0;32m    691\u001b[0m         )\n\u001b[0;32m    692\u001b[0m         \u001b[39mif\u001b[39;00m \u001b[39mnot\u001b[39;00m \u001b[39misinstance\u001b[39m(patterns_for_key, DataFilesList)\n\u001b[0;32m    693\u001b[0m         \u001b[39melse\u001b[39;00m patterns_for_key\n\u001b[0;32m    694\u001b[0m     )\n\u001b[0;32m    695\u001b[0m \u001b[39mreturn\u001b[39;00m out\n",
      "File \u001b[1;32mc:\\Users\\m4mou\\AppData\\Local\\Programs\\Python\\Python311\\Lib\\site-packages\\datasets\\data_files.py:591\u001b[0m, in \u001b[0;36mDataFilesList.from_patterns\u001b[1;34m(cls, patterns, base_path, allowed_extensions, download_config)\u001b[0m\n\u001b[0;32m    588\u001b[0m \u001b[39mfor\u001b[39;00m pattern \u001b[39min\u001b[39;00m patterns:\n\u001b[0;32m    589\u001b[0m     \u001b[39mtry\u001b[39;00m:\n\u001b[0;32m    590\u001b[0m         data_files\u001b[39m.\u001b[39mextend(\n\u001b[1;32m--> 591\u001b[0m             resolve_pattern(\n\u001b[0;32m    592\u001b[0m                 pattern,\n\u001b[0;32m    593\u001b[0m                 base_path\u001b[39m=\u001b[39;49mbase_path,\n\u001b[0;32m    594\u001b[0m                 allowed_extensions\u001b[39m=\u001b[39;49mallowed_extensions,\n\u001b[0;32m    595\u001b[0m                 download_config\u001b[39m=\u001b[39;49mdownload_config,\n\u001b[0;32m    596\u001b[0m             )\n\u001b[0;32m    597\u001b[0m         )\n\u001b[0;32m    598\u001b[0m     \u001b[39mexcept\u001b[39;00m \u001b[39mFileNotFoundError\u001b[39;00m:\n\u001b[0;32m    599\u001b[0m         \u001b[39mif\u001b[39;00m \u001b[39mnot\u001b[39;00m has_magic(pattern):\n",
      "File \u001b[1;32mc:\\Users\\m4mou\\AppData\\Local\\Programs\\Python\\Python311\\Lib\\site-packages\\datasets\\data_files.py:380\u001b[0m, in \u001b[0;36mresolve_pattern\u001b[1;34m(pattern, base_path, allowed_extensions, download_config)\u001b[0m\n\u001b[0;32m    378\u001b[0m     \u001b[39mif\u001b[39;00m allowed_extensions \u001b[39mis\u001b[39;00m \u001b[39mnot\u001b[39;00m \u001b[39mNone\u001b[39;00m:\n\u001b[0;32m    379\u001b[0m         error_msg \u001b[39m+\u001b[39m\u001b[39m=\u001b[39m \u001b[39mf\u001b[39m\u001b[39m\"\u001b[39m\u001b[39m with any supported extension \u001b[39m\u001b[39m{\u001b[39;00m\u001b[39mlist\u001b[39m(allowed_extensions)\u001b[39m}\u001b[39;00m\u001b[39m\"\u001b[39m\n\u001b[1;32m--> 380\u001b[0m     \u001b[39mraise\u001b[39;00m \u001b[39mFileNotFoundError\u001b[39;00m(error_msg)\n\u001b[0;32m    381\u001b[0m \u001b[39mreturn\u001b[39;00m out\n",
      "\u001b[1;31mFileNotFoundError\u001b[0m: Unable to find 'c:\\Users\\m4mou\\Desktop\\pmldl\\textDetoxification-main\\src\\data\\all_data_processed.csv'"
     ]
    }
   ],
   "source": [
    "from datasets import load_dataset\n",
    "all_data = load_dataset('csv', data_files=os.path.join(DATA_FOLDER, 'all_data_processed.csv'), split='train')\n",
    "all_data = all_data.filter(lambda s: (isinstance(s['source'], str) and isinstance(s['target'], str)))"
   ]
  },
  {
   "cell_type": "code",
   "execution_count": 43,
   "metadata": {},
   "outputs": [
    {
     "data": {
      "text/plain": [
       "Dataset({\n",
       "    features: ['source', 'target'],\n",
       "    num_rows: 597519\n",
       "})"
      ]
     },
     "execution_count": 43,
     "metadata": {},
     "output_type": "execute_result"
    }
   ],
   "source": [
    "all_data"
   ]
  },
  {
   "cell_type": "code",
   "execution_count": 44,
   "metadata": {},
   "outputs": [
    {
     "name": "stderr",
     "output_type": "stream",
     "text": [
      "Creating CSV from Arrow format:   0%|          | 0/277 [00:00<?, ?ba/s]"
     ]
    },
    {
     "name": "stderr",
     "output_type": "stream",
     "text": [
      "Creating CSV from Arrow format: 100%|██████████| 277/277 [00:01<00:00, 239.18ba/s]\n"
     ]
    },
    {
     "data": {
      "text/plain": [
       "31406141"
      ]
     },
     "execution_count": 44,
     "metadata": {},
     "output_type": "execute_result"
    }
   ],
   "source": [
    "from src.text_processing import preprocess as pr\n",
    "# the next step is to filter the dataset\n",
    "def filter_data(sample):\n",
    "    \"\"\"This function receives  a batch of samples from the original data and filters those whose 'source' text is shorter than the 'target' text.\"\"\"\n",
    "    # first tokenize each 'source' and 'target' fields\n",
    "    source = pr.tokenize(sample['source'], tokenizer_type='word')\n",
    "    target = pr.tokenize(sample['target'], tokenizer_type='word')\n",
    "    return len(source) > len(target)\n",
    "\n",
    "summary_data = all_data.filter(filter_data)\n",
    "# save the data\n",
    "summary_data.to_csv(os.path.join(DATA_FOLDER, 'summarized_data.csv'), index=False)"
   ]
  },
  {
   "cell_type": "code",
   "execution_count": 45,
   "metadata": {},
   "outputs": [],
   "source": [
    "import src.data_preparation.prepare_data as pdr\n",
    "sample = summary_data.select(range(5000))\n",
    "train_data, val_data, test_data = pdr.data_split(all_data=sample)"
   ]
  },
  {
   "cell_type": "markdown",
   "metadata": {},
   "source": [
    "# DataLoaders"
   ]
  },
  {
   "cell_type": "code",
   "execution_count": 46,
   "metadata": {},
   "outputs": [],
   "source": [
    "# the next step is to tokenize the data  \n",
    "import torch\n",
    "from transformers import AutoModelForSeq2SeqLM, AutoTokenizer\n",
    "CHECKPOINT = 't5-small'\n",
    "DEVICE = 'cuda' if torch.cuda.is_available() else 'cpu'\n",
    "TOKENIZER = AutoTokenizer.from_pretrained(CHECKPOINT)\n",
    "MODEL = AutoModelForSeq2SeqLM.from_pretrained(CHECKPOINT).to(DEVICE)"
   ]
  },
  {
   "cell_type": "code",
   "execution_count": 47,
   "metadata": {},
   "outputs": [],
   "source": [
    "TASK_PREFIX = 'summarize: '\n",
    "\n",
    "def prepare_labeled_data(batch):\n",
    "    # add the task predix to each sentence\n",
    "    inputs = [TASK_PREFIX + doc for doc in batch[\"source\"]]\n",
    "    # tokenize 'x'\n",
    "    model_inputs = TOKENIZER(inputs, truncation=True, max_length=1028)\n",
    "    # tokenize 'y'  \n",
    "    labels = TOKENIZER(text_target=batch[\"target\"], truncation=True)\n",
    "    # add it to the model's input\n",
    "    model_inputs[\"labels\"] = labels[\"input_ids\"]\n",
    "    return model_inputs"
   ]
  },
  {
   "cell_type": "code",
   "execution_count": 48,
   "metadata": {},
   "outputs": [],
   "source": [
    "train_data = train_data.map(prepare_labeled_data, batched=True).remove_columns(['source', 'target'])\n",
    "val_data = val_data.map(prepare_labeled_data, batched=True).remove_columns(['source', 'target'])"
   ]
  },
  {
   "cell_type": "code",
   "execution_count": 49,
   "metadata": {},
   "outputs": [],
   "source": [
    "# create a DataCollator for padding for the sequence to sequence models\n",
    "from transformers import DataCollatorForSeq2Seq\n",
    "data_collator = DataCollatorForSeq2Seq(tokenizer=TOKENIZER, model=CHECKPOINT)\n",
    "# we are now ready to create the dataloader\n",
    "from torch.utils.data import DataLoader\n",
    "train_dl = DataLoader(dataset=train_data, batch_size=4, shuffle=True, collate_fn=data_collator)\n",
    "val_dl = DataLoader(dataset=val_data, batch_size=4, shuffle=False, collate_fn=data_collator)"
   ]
  },
  {
   "cell_type": "code",
   "execution_count": 50,
   "metadata": {},
   "outputs": [
    {
     "name": "stderr",
     "output_type": "stream",
     "text": [
      "You're using a T5TokenizerFast tokenizer. Please note that with a fast tokenizer, using the `__call__` method is faster than using a method to encode the text followed by a call to the `pad` method to get a padded encoding.\n"
     ]
    }
   ],
   "source": [
    "# make sure the data is loaded correctly\n",
    "b1, b2 = next(iter(train_dl)), next(iter(val_dl))"
   ]
  },
  {
   "cell_type": "markdown",
   "metadata": {},
   "source": [
    "# Model Training"
   ]
  },
  {
   "cell_type": "markdown",
   "metadata": {},
   "source": [
    "## Training Code"
   ]
  },
  {
   "cell_type": "markdown",
   "metadata": {},
   "source": [
    "## Train utilities"
   ]
  },
  {
   "cell_type": "code",
   "execution_count": 51,
   "metadata": {},
   "outputs": [],
   "source": [
    "from src.evaluation import toxicity_classication as tc\n",
    "singleton_obj = tc.EvalutionSingletonInitializer()\n",
    "tx_classifier, tx_tokenizer, tx_device = singleton_obj.get_toxic_classifier(), singleton_obj.get_toxic_tokenizer(), singleton_obj.get_device()\n",
    "# let's define some of the training parameters\n",
    "from torch.optim import Adam\n",
    "from torch.optim.lr_scheduler import LinearLR\n",
    "\n",
    "# lr: the same as the one used in the/home/ayhem18/DEV/My_Kaggle_Repo/pytorch_modular/pytorch_utilities.py\n",
    "optimizer = Adam(MODEL.parameters(), lr=2 * 10 ** -5)\n",
    "scheduler = LinearLR(optimizer=optimizer, start_factor=1, end_factor=0.5,total_iters=100)"
   ]
  },
  {
   "cell_type": "code",
   "execution_count": 52,
   "metadata": {},
   "outputs": [],
   "source": [
    "# let's write a function to compute the summarization + toxicity loss\n",
    "from src.evaluation.toxicity_classication import EvalutionSingletonInitializer\n",
    "from torch.nn.functional import softmax\n",
    "from typing import Union\n",
    "\n",
    "def toxic_summary_model_loss(output_decoded: torch.Tensor, \n",
    "                             device,\n",
    "                             return_tensor: bool=False) -> Union[float, torch.Tensor]:\n",
    "    \n",
    "    singleton_obj = EvalutionSingletonInitializer()\n",
    "    tc_tokenizer, tc_classifier = singleton_obj.get_toxic_tokenizer(), singleton_obj.get_toxic_classifier()\n",
    "\n",
    "    # make sure to freeze their parameters\n",
    "    for p in tc_classifier.parameters():\n",
    "        p.requires_grad = False\n",
    "\n",
    "    tc_classifier.to(device)\n",
    "    # tokenize\n",
    "    model_input = tc_tokenizer(output_decoded, return_tensors='pt', padding=True, truncation=True)\n",
    "    # set the input to the device\n",
    "    model_input = {k: v.to(device) for k, v in model_input.items()}\n",
    "    # pass through the model\n",
    "    output = tc_classifier(**model_input)\n",
    "    \n",
    "    loss = torch.mean(softmax(output.logits, dim=1)[:, 1])\n",
    "    \n",
    "    if return_tensor: \n",
    "        loss.requires_grad=True\n",
    "        return loss\n",
    "    \n",
    "    return loss.item()\n"
   ]
  },
  {
   "cell_type": "code",
   "execution_count": 53,
   "metadata": {},
   "outputs": [
    {
     "name": "stdout",
     "output_type": "stream",
     "text": [
      "[INFO] Created SummaryWriter, saving to: /home/ayhem18/DEV/TextDetoxification/src/data_analysis/runs/experience_3...\n"
     ]
    },
    {
     "name": "stderr",
     "output_type": "stream",
     "text": [
      "  0%|          | 0/20 [00:00<?, ?it/s]"
     ]
    },
    {
     "name": "stderr",
     "output_type": "stream",
     "text": [
      "/home/ayhem18/DEV/TextDetoxification/env/lib/python3.11/site-packages/transformers/generation/utils.py:1260: UserWarning: Using the model-agnostic default `max_length` (=20) to control the generation length. We recommend setting `max_new_tokens` to control the maximum length of the generation.\n",
      "  warnings.warn(\n",
      "  5%|▌         | 1/20 [00:51<16:18, 51.50s/it]"
     ]
    },
    {
     "name": "stdout",
     "output_type": "stream",
     "text": [
      "Training losses\n",
      "train_loss: 2.058954809506734\n",
      "val_loss: 1.811967327594757\n",
      "val_toxic_loss: 0.4798521736264229\n",
      "##################################################\n",
      "\n"
     ]
    },
    {
     "name": "stderr",
     "output_type": "stream",
     "text": [
      " 10%|█         | 2/20 [01:44<15:43, 52.41s/it]"
     ]
    },
    {
     "name": "stdout",
     "output_type": "stream",
     "text": [
      "Training losses\n",
      "train_loss: 1.853737468868494\n",
      "val_loss: 1.7395953011512757\n",
      "val_toxic_loss: 0.43860718846321106\n",
      "##################################################\n",
      "\n"
     ]
    },
    {
     "name": "stderr",
     "output_type": "stream",
     "text": [
      " 15%|█▌        | 3/20 [02:37<14:55, 52.66s/it]"
     ]
    },
    {
     "name": "stdout",
     "output_type": "stream",
     "text": [
      "Training losses\n",
      "train_loss: 1.7814031597971915\n",
      "val_loss: 1.7094623112678529\n",
      "val_toxic_loss: 0.4199349391274154\n",
      "##################################################\n",
      "\n"
     ]
    },
    {
     "name": "stderr",
     "output_type": "stream",
     "text": [
      " 20%|██        | 4/20 [03:32<14:15, 53.46s/it]"
     ]
    },
    {
     "name": "stdout",
     "output_type": "stream",
     "text": [
      "Training losses\n",
      "train_loss: 1.7202352969845136\n",
      "val_loss: 1.684651005268097\n",
      "val_toxic_loss: 0.407940112259239\n",
      "##################################################\n",
      "\n"
     ]
    },
    {
     "name": "stderr",
     "output_type": "stream",
     "text": [
      " 25%|██▌       | 5/20 [04:25<13:23, 53.54s/it]"
     ]
    },
    {
     "name": "stdout",
     "output_type": "stream",
     "text": [
      "Training losses\n",
      "train_loss: 1.6878443964322407\n",
      "val_loss: 1.6621418690681458\n",
      "val_toxic_loss: 0.34025811709463594\n",
      "##################################################\n",
      "\n"
     ]
    },
    {
     "name": "stderr",
     "output_type": "stream",
     "text": [
      " 30%|███       | 6/20 [05:18<12:22, 53.07s/it]"
     ]
    },
    {
     "name": "stdout",
     "output_type": "stream",
     "text": [
      "Training losses\n",
      "train_loss: 1.6435355252275865\n",
      "val_loss: 1.6507072162628174\n",
      "val_toxic_loss: 0.3387550112465397\n",
      "##################################################\n",
      "\n"
     ]
    },
    {
     "name": "stderr",
     "output_type": "stream",
     "text": [
      " 35%|███▌      | 7/20 [06:10<11:25, 52.76s/it]"
     ]
    },
    {
     "name": "stdout",
     "output_type": "stream",
     "text": [
      "Training losses\n",
      "train_loss: 1.6143817332883676\n",
      "val_loss: 1.6427064394950868\n",
      "val_toxic_loss: 0.33577101639006285\n",
      "##################################################\n",
      "\n"
     ]
    },
    {
     "name": "stderr",
     "output_type": "stream",
     "text": [
      " 40%|████      | 8/20 [07:03<10:35, 52.97s/it]"
     ]
    },
    {
     "name": "stdout",
     "output_type": "stream",
     "text": [
      "Training losses\n",
      "train_loss: 1.5854780339697996\n",
      "val_loss: 1.636137216091156\n",
      "val_toxic_loss: 0.3092331942776218\n",
      "##################################################\n",
      "\n"
     ]
    },
    {
     "name": "stderr",
     "output_type": "stream",
     "text": [
      " 45%|████▌     | 9/20 [07:55<09:40, 52.80s/it]"
     ]
    },
    {
     "name": "stdout",
     "output_type": "stream",
     "text": [
      "Training losses\n",
      "train_loss: 1.5574309329191844\n",
      "val_loss: 1.633069040775299\n",
      "val_toxic_loss: 0.33350867104250936\n",
      "##################################################\n",
      "\n"
     ]
    },
    {
     "name": "stderr",
     "output_type": "stream",
     "text": [
      " 50%|█████     | 10/20 [08:48<08:48, 52.84s/it]"
     ]
    },
    {
     "name": "stdout",
     "output_type": "stream",
     "text": [
      "Training losses\n",
      "train_loss: 1.528621304978927\n",
      "val_loss: 1.6335341763496398\n",
      "val_toxic_loss: 0.3053720067953691\n",
      "##################################################\n",
      "\n"
     ]
    },
    {
     "name": "stderr",
     "output_type": "stream",
     "text": [
      " 55%|█████▌    | 11/20 [09:42<07:57, 53.03s/it]"
     ]
    },
    {
     "name": "stdout",
     "output_type": "stream",
     "text": [
      "Training losses\n",
      "train_loss: 1.5046447436511516\n",
      "val_loss: 1.630578372478485\n",
      "val_toxic_loss: 0.3123217681562528\n",
      "##################################################\n",
      "\n"
     ]
    },
    {
     "name": "stderr",
     "output_type": "stream",
     "text": [
      " 60%|██████    | 12/20 [10:34<07:02, 52.79s/it]"
     ]
    },
    {
     "name": "stdout",
     "output_type": "stream",
     "text": [
      "Training losses\n",
      "train_loss: 1.481734464118878\n",
      "val_loss: 1.6248017978668212\n",
      "val_toxic_loss: 0.3218809970607981\n",
      "##################################################\n",
      "\n"
     ]
    },
    {
     "name": "stderr",
     "output_type": "stream",
     "text": [
      " 65%|██████▌   | 13/20 [11:28<06:12, 53.18s/it]"
     ]
    },
    {
     "name": "stdout",
     "output_type": "stream",
     "text": [
      "Training losses\n",
      "train_loss: 1.46661146124204\n",
      "val_loss: 1.6276494884490966\n",
      "val_toxic_loss: 0.30002808939199893\n",
      "##################################################\n",
      "\n"
     ]
    },
    {
     "name": "stderr",
     "output_type": "stream",
     "text": [
      " 70%|███████   | 14/20 [12:21<05:18, 53.08s/it]"
     ]
    },
    {
     "name": "stdout",
     "output_type": "stream",
     "text": [
      "Training losses\n",
      "train_loss: 1.4381910422692696\n",
      "val_loss: 1.6230375289916992\n",
      "val_toxic_loss: 0.307290983046405\n",
      "##################################################\n",
      "\n"
     ]
    },
    {
     "name": "stderr",
     "output_type": "stream",
     "text": [
      " 75%|███████▌  | 15/20 [13:13<04:24, 52.83s/it]"
     ]
    },
    {
     "name": "stdout",
     "output_type": "stream",
     "text": [
      "Training losses\n",
      "train_loss: 1.4177744600673516\n",
      "val_loss: 1.62771249294281\n",
      "val_toxic_loss: 0.2944334503309801\n",
      "##################################################\n",
      "\n"
     ]
    },
    {
     "name": "stderr",
     "output_type": "stream",
     "text": [
      " 80%|████████  | 16/20 [14:06<03:30, 52.70s/it]"
     ]
    },
    {
     "name": "stdout",
     "output_type": "stream",
     "text": [
      "Training losses\n",
      "train_loss: 1.4031429247558116\n",
      "val_loss: 1.630598373413086\n",
      "val_toxic_loss: 0.28816035486292096\n",
      "##################################################\n",
      "\n"
     ]
    },
    {
     "name": "stderr",
     "output_type": "stream",
     "text": [
      " 85%|████████▌ | 17/20 [14:58<02:37, 52.57s/it]"
     ]
    },
    {
     "name": "stdout",
     "output_type": "stream",
     "text": [
      "Training losses\n",
      "train_loss: 1.3840631944686175\n",
      "val_loss: 1.6306456446647644\n",
      "val_toxic_loss: 0.2935291335778311\n",
      "##################################################\n",
      "\n"
     ]
    },
    {
     "name": "stderr",
     "output_type": "stream",
     "text": [
      " 90%|█████████ | 18/20 [15:50<01:44, 52.31s/it]"
     ]
    },
    {
     "name": "stdout",
     "output_type": "stream",
     "text": [
      "Training losses\n",
      "train_loss: 1.3683720229069392\n",
      "val_loss: 1.6363922333717347\n",
      "val_toxic_loss: 0.2932124473992735\n",
      "##################################################\n",
      "\n"
     ]
    },
    {
     "name": "stderr",
     "output_type": "stream",
     "text": [
      " 95%|█████████▌| 19/20 [16:42<00:52, 52.18s/it]"
     ]
    },
    {
     "name": "stdout",
     "output_type": "stream",
     "text": [
      "Training losses\n",
      "train_loss: 1.3503433749824763\n",
      "val_loss: 1.633616714477539\n",
      "val_toxic_loss: 0.30257517254445704\n",
      "##################################################\n",
      "\n"
     ]
    },
    {
     "name": "stderr",
     "output_type": "stream",
     "text": [
      "100%|██████████| 20/20 [17:33<00:00, 52.69s/it]"
     ]
    },
    {
     "name": "stdout",
     "output_type": "stream",
     "text": [
      "Training losses\n",
      "train_loss: 1.3333475915218393\n",
      "val_loss: 1.6379020452499389\n",
      "val_toxic_loss: 0.3058235085057095\n",
      "##################################################\n",
      "\n"
     ]
    },
    {
     "name": "stderr",
     "output_type": "stream",
     "text": [
      "\n"
     ]
    }
   ],
   "source": [
    "from src.models.summarizer import summarizer  as ss\n",
    "import src.models/train.exp_tracking as et\n",
    "import importlib \n",
    "importlib.reload(ss)\n",
    "importlib.reload(et)\n",
    "\n",
    "_, _, best_model = ss.train_custom_summarizer(train_dataloader=train_dl, \n",
    "                                            val_dataloader=val_dl,\n",
    "                                            summary_model=MODEL,\n",
    "                                            summary_tokenizer=TOKENIZER, \n",
    "                                            toxicity_loss_function=toxic_summary_model_loss,\n",
    "                                            toxicity_coeff=0.5, \n",
    "                                            optimizer=optimizer, \n",
    "                                            scheduler=scheduler, \n",
    "                                            num_epochs=20,   \n",
    "                                            report_per_epoch=1,\n",
    "                                            log_dir=os.path.join(HOME, 'runs')\n",
    "                                            )\n"
   ]
  },
  {
   "cell_type": "code",
   "execution_count": 54,
   "metadata": {},
   "outputs": [
    {
     "name": "stdout",
     "output_type": "stream",
     "text": [
      "source: summarize: we don't fear these demons. we destroy them.\n",
      "target: we don't fight demons, we destroy them.\n",
      "generated :we don't fear these demons.\n",
      "####################################################################################################\n",
      "source: summarize: the old witch shook her head.\n",
      "target: she shook her head.\n",
      "generated :the old witch shook her head.\n",
      "####################################################################################################\n",
      "source: summarize: you want me to fucking leave her\n",
      "target: you want to leave it\n",
      "generated :you want me to leave her\n",
      "####################################################################################################\n",
      "source: summarize: why don't you get rid of her before you go, huh\n",
      "target: why not make amends before you leave, huh\n",
      "generated :why don't you get rid of her before you go\n",
      "####################################################################################################\n",
      "source: summarize: darn it. fractions are so hard.\n",
      "target: fractions are so heavy.\n",
      "generated :fractions are so hard.\n",
      "####################################################################################################\n"
     ]
    }
   ],
   "source": [
    "for i in range(0, len(val_data), 20):\n",
    "    input_ids = val_data[i]['input_ids']\n",
    "    attention_mask = val_data[i]['attention_mask']\n",
    "    labels = val_data[i]['labels']\n",
    "\n",
    "    print(f\"source: {TOKENIZER.decode(input_ids, skip_special_tokens=True)}\")\n",
    "    print(f\"target: {TOKENIZER.decode(labels, skip_special_tokens=True)}\")\n",
    "\n",
    "    outputs = best_model.generate(\n",
    "        input_ids=torch.tensor(input_ids).unsqueeze(0).to('cuda'),\n",
    "        attention_mask=torch.tensor(attention_mask).unsqueeze(0).to('cuda'),\n",
    "        max_length=512,\n",
    "        num_beams=5,\n",
    "        early_stopping=True\n",
    "    )\n",
    "\n",
    "    print(f\"generated :{TOKENIZER.decode(outputs[0], skip_special_tokens=True)}\")\n",
    "    print(\"#\" * 100)\n"
   ]
  },
  {
   "cell_type": "code",
   "execution_count": null,
   "metadata": {},
   "outputs": [],
   "source": []
  }
 ],
 "metadata": {
  "kernelspec": {
   "display_name": "env",
   "language": "python",
   "name": "python3"
  },
  "language_info": {
   "codemirror_mode": {
    "name": "ipython",
    "version": 3
   },
   "file_extension": ".py",
   "mimetype": "text/x-python",
   "name": "python",
   "nbconvert_exporter": "python",
   "pygments_lexer": "ipython3",
   "version": "3.11.4"
  }
 },
 "nbformat": 4,
 "nbformat_minor": 2
}
