{
 "cells": [
  {
   "cell_type": "code",
   "execution_count": 5,
   "metadata": {},
   "outputs": [
    {
     "name": "stdout",
     "output_type": "stream",
     "text": [
      "['c:\\\\Users\\\\m4mou\\\\Desktop\\\\pmldl\\\\mywork\\\\Text-De-toxification\\\\notebooks', 'c:\\\\Users\\\\m4mou\\\\AppData\\\\Local\\\\Programs\\\\Python\\\\Python311\\\\python311.zip', 'c:\\\\Users\\\\m4mou\\\\AppData\\\\Local\\\\Programs\\\\Python\\\\Python311\\\\DLLs', 'c:\\\\Users\\\\m4mou\\\\AppData\\\\Local\\\\Programs\\\\Python\\\\Python311\\\\Lib', 'c:\\\\Users\\\\m4mou\\\\AppData\\\\Local\\\\Programs\\\\Python\\\\Python311', '', 'C:\\\\Users\\\\m4mou\\\\AppData\\\\Roaming\\\\Python\\\\Python311\\\\site-packages', 'C:\\\\Users\\\\m4mou\\\\AppData\\\\Roaming\\\\Python\\\\Python311\\\\site-packages\\\\win32', 'C:\\\\Users\\\\m4mou\\\\AppData\\\\Roaming\\\\Python\\\\Python311\\\\site-packages\\\\win32\\\\lib', 'C:\\\\Users\\\\m4mou\\\\AppData\\\\Roaming\\\\Python\\\\Python311\\\\site-packages\\\\Pythonwin', 'c:\\\\Users\\\\m4mou\\\\AppData\\\\Local\\\\Programs\\\\Python\\\\Python311\\\\Lib\\\\site-packages', 'c:\\\\Users\\\\m4mou\\\\Desktop\\\\pmldl\\\\mywork\\\\Text-De-toxification', 'c:\\\\Users\\\\m4mou\\\\Desktop\\\\pmldl\\\\mywork\\\\Text-De-toxification', 'c:\\\\Users\\\\m4mou\\\\Desktop\\\\pmldl\\\\mywork\\\\Text-De-toxification', 'c:\\\\Users\\\\m4mou\\\\Desktop\\\\pmldl\\\\mywork\\\\Text-De-toxification', 'c:\\\\Users\\\\m4mou\\\\Desktop\\\\pmldl\\\\mywork\\\\Text-De-toxification', 'c:\\\\Users\\\\m4mou\\\\Desktop\\\\pmldl\\\\mywork\\\\Text-De-toxification\\\\data_analysis', 'c:\\\\Users\\\\m4mou\\\\Desktop\\\\pmldl\\\\mywork\\\\Text-De-toxification\\\\evaluation', 'c:\\\\Users\\\\m4mou\\\\Desktop\\\\pmldl\\\\mywork\\\\Text-De-toxification\\\\text_processing', 'c:\\\\Users\\\\m4mou\\\\Desktop\\\\pmldl\\\\mywork\\\\Text-De-toxification']\n"
     ]
    },
    {
     "data": {
      "application/vnd.jupyter.widget-view+json": {
       "model_id": "2e33a50ff1c54f3f8b54ef7897848db8",
       "version_major": 2,
       "version_minor": 0
      },
      "text/plain": [
       "Downloading data files:   0%|          | 0/1 [00:00<?, ?it/s]"
      ]
     },
     "metadata": {},
     "output_type": "display_data"
    },
    {
     "data": {
      "application/vnd.jupyter.widget-view+json": {
       "model_id": "b065ad81b98d401a8dc1b49b18664f66",
       "version_major": 2,
       "version_minor": 0
      },
      "text/plain": [
       "Extracting data files:   0%|          | 0/1 [00:00<?, ?it/s]"
      ]
     },
     "metadata": {},
     "output_type": "display_data"
    },
    {
     "data": {
      "application/vnd.jupyter.widget-view+json": {
       "model_id": "a25ecef82ba44fb29e075b16774478e6",
       "version_major": 2,
       "version_minor": 0
      },
      "text/plain": [
       "Generating train split: 0 examples [00:00, ? examples/s]"
      ]
     },
     "metadata": {},
     "output_type": "display_data"
    },
    {
     "data": {
      "application/vnd.jupyter.widget-view+json": {
       "model_id": "7deb09a6cc194b889bfd2fbb49d45e40",
       "version_major": 2,
       "version_minor": 0
      },
      "text/plain": [
       "Map:   0%|          | 0/1999 [00:00<?, ? examples/s]"
      ]
     },
     "metadata": {},
     "output_type": "display_data"
    }
   ],
   "source": [
    "# the notebook's main objective is to filter and prepare the dataset to train a summarizer on it.\n",
    "import os, sys\n",
    "from pathlib import Path\n",
    "HOME = os.getcwd()\n",
    "\n",
    "current = HOME \n",
    "while 'src' not in os.listdir(current):\n",
    "    current = Path(current).parent\n",
    "\n",
    "PARENT_DIR = str(current)\n",
    "DATA_FOLDER = os.path.join(PARENT_DIR, 'src','data')\n",
    "data_path = os.path.join(DATA_FOLDER, 'filtered.tsv')\n",
    "\n",
    "sys.path.append(str(current))\n",
    "print(sys.path)\n",
    "from transformers import AutoModelForSeq2SeqLM, AutoTokenizer, AutoModelForSequenceClassification\n",
    "import torch\n",
    "import torch.nn.functional as F\n",
    "from datasets import load_dataset\n",
    "\n",
    "from src.models.predict.train_custom_seq2seq import prepare_sample\n",
    "\n",
    "\n",
    "\n",
    "\n",
    "def predict():\n",
    "    checkpoint = 'facebook/bart-base'\n",
    "    tokenizer = AutoTokenizer.from_pretrained(checkpoint)\n",
    "\n",
    "    seq2seq_checkpoint = os.path.join(PARENT_DIR, \n",
    "                                      'checkpoints', \n",
    "                                      's2s', \n",
    "                                      'seq2seq_checkpoints', \n",
    "                                      'checkpoint-21200')\n",
    "    model = AutoModelForSeq2SeqLM.from_pretrained(seq2seq_checkpoint).to('cuda')\n",
    "\n",
    "    test_data = load_dataset(\"csv\", data_files=os.path.join(DATA_FOLDER, 'test_split.csv'), split='train')\n",
    "    test_data = test_data.map(lambda b: prepare_sample(b, tokenizer=tokenizer), batched=True).remove_columns(['source', 'target'])\n",
    "\n",
    "    with open(os.path.join(current, \"results.txt\"), 'w') as file:\n",
    "        for i in range(len(test_data)):\n",
    "            input_ids = test_data[i]['input_ids']\n",
    "            attention_mask = test_data[i]['attention_mask']\n",
    "\n",
    "            outputs = model.generate(\n",
    "                input_ids=torch.tensor(input_ids).unsqueeze(0).to('cuda'),\n",
    "                attention_mask=torch.tensor(attention_mask).unsqueeze(0).to('cuda'),\n",
    "                max_length=512,\n",
    "                num_beams=2,\n",
    "                early_stopping=True\n",
    "            )\n",
    "            generated = tokenizer.decode(outputs[0], skip_special_tokens=True)\n",
    "            file.write(f'{generated}\\n')\n",
    "\n",
    "\n",
    "if __name__ == '__main__':\n",
    "    predict()"
   ]
  }
 ],
 "metadata": {
  "kernelspec": {
   "display_name": "Python 3",
   "language": "python",
   "name": "python3"
  },
  "language_info": {
   "codemirror_mode": {
    "name": "ipython",
    "version": 3
   },
   "file_extension": ".py",
   "mimetype": "text/x-python",
   "name": "python",
   "nbconvert_exporter": "python",
   "pygments_lexer": "ipython3",
   "version": "3.11.4"
  }
 },
 "nbformat": 4,
 "nbformat_minor": 2
}
